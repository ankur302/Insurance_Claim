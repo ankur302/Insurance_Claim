{
  "nbformat": 4,
  "nbformat_minor": 0,
  "metadata": {
    "colab": {
      "name": "Travel_insurance_claim.ipynb",
      "provenance": [],
      "collapsed_sections": []
    },
    "kernelspec": {
      "display_name": "Python 3",
      "name": "python3"
    }
  },
  "cells": [
    {
      "cell_type": "code",
      "metadata": {
        "id": "C0UlH4FQmSDV"
      },
      "source": [
        "import pandas as pd\r\n",
        "import numpy as np \r\n",
        "import matplotlib.pyplot as plt\r\n"
      ],
      "execution_count": 121,
      "outputs": []
    },
    {
      "cell_type": "code",
      "metadata": {
        "id": "VZY0BDH0mfw3"
      },
      "source": [
        "insurance_data  = pd.read_csv(\"https://raw.githubusercontent.com/dphi-official/Datasets/master/travel_insurance/Training_set_label.csv\" )"
      ],
      "execution_count": 122,
      "outputs": []
    },
    {
      "cell_type": "code",
      "metadata": {
        "id": "EWkomkMQ7tNA"
      },
      "source": [
        "test_data = pd.read_csv('https://raw.githubusercontent.com/dphi-official/Datasets/master/travel_insurance/Testing_set_label.csv')"
      ],
      "execution_count": 123,
      "outputs": []
    },
    {
      "cell_type": "code",
      "metadata": {
        "colab": {
          "base_uri": "https://localhost:8080/",
          "height": 204
        },
        "id": "3r8-hnZKmz2A",
        "outputId": "b33ee134-300b-4353-d4ac-a6b96b2e7a7d"
      },
      "source": [
        "insurance_data.head()"
      ],
      "execution_count": 124,
      "outputs": [
        {
          "output_type": "execute_result",
          "data": {
            "text/html": [
              "<div>\n",
              "<style scoped>\n",
              "    .dataframe tbody tr th:only-of-type {\n",
              "        vertical-align: middle;\n",
              "    }\n",
              "\n",
              "    .dataframe tbody tr th {\n",
              "        vertical-align: top;\n",
              "    }\n",
              "\n",
              "    .dataframe thead th {\n",
              "        text-align: right;\n",
              "    }\n",
              "</style>\n",
              "<table border=\"1\" class=\"dataframe\">\n",
              "  <thead>\n",
              "    <tr style=\"text-align: right;\">\n",
              "      <th></th>\n",
              "      <th>Agency</th>\n",
              "      <th>Agency Type</th>\n",
              "      <th>Distribution Channel</th>\n",
              "      <th>Product Name</th>\n",
              "      <th>Duration</th>\n",
              "      <th>Destination</th>\n",
              "      <th>Net Sales</th>\n",
              "      <th>Commision (in value)</th>\n",
              "      <th>Gender</th>\n",
              "      <th>Age</th>\n",
              "      <th>Claim</th>\n",
              "    </tr>\n",
              "  </thead>\n",
              "  <tbody>\n",
              "    <tr>\n",
              "      <th>0</th>\n",
              "      <td>CWT</td>\n",
              "      <td>Travel Agency</td>\n",
              "      <td>Online</td>\n",
              "      <td>Rental Vehicle Excess Insurance</td>\n",
              "      <td>61</td>\n",
              "      <td>UNITED KINGDOM</td>\n",
              "      <td>19.8</td>\n",
              "      <td>11.88</td>\n",
              "      <td>NaN</td>\n",
              "      <td>29</td>\n",
              "      <td>0</td>\n",
              "    </tr>\n",
              "    <tr>\n",
              "      <th>1</th>\n",
              "      <td>EPX</td>\n",
              "      <td>Travel Agency</td>\n",
              "      <td>Online</td>\n",
              "      <td>Cancellation Plan</td>\n",
              "      <td>93</td>\n",
              "      <td>NEW ZEALAND</td>\n",
              "      <td>63.0</td>\n",
              "      <td>0.00</td>\n",
              "      <td>NaN</td>\n",
              "      <td>36</td>\n",
              "      <td>0</td>\n",
              "    </tr>\n",
              "    <tr>\n",
              "      <th>2</th>\n",
              "      <td>EPX</td>\n",
              "      <td>Travel Agency</td>\n",
              "      <td>Online</td>\n",
              "      <td>2 way Comprehensive Plan</td>\n",
              "      <td>22</td>\n",
              "      <td>UNITED STATES</td>\n",
              "      <td>22.0</td>\n",
              "      <td>0.00</td>\n",
              "      <td>NaN</td>\n",
              "      <td>25</td>\n",
              "      <td>0</td>\n",
              "    </tr>\n",
              "    <tr>\n",
              "      <th>3</th>\n",
              "      <td>C2B</td>\n",
              "      <td>Airlines</td>\n",
              "      <td>Online</td>\n",
              "      <td>Silver Plan</td>\n",
              "      <td>14</td>\n",
              "      <td>SINGAPORE</td>\n",
              "      <td>54.5</td>\n",
              "      <td>13.63</td>\n",
              "      <td>M</td>\n",
              "      <td>24</td>\n",
              "      <td>0</td>\n",
              "    </tr>\n",
              "    <tr>\n",
              "      <th>4</th>\n",
              "      <td>EPX</td>\n",
              "      <td>Travel Agency</td>\n",
              "      <td>Online</td>\n",
              "      <td>Cancellation Plan</td>\n",
              "      <td>90</td>\n",
              "      <td>VIET NAM</td>\n",
              "      <td>10.0</td>\n",
              "      <td>0.00</td>\n",
              "      <td>NaN</td>\n",
              "      <td>23</td>\n",
              "      <td>0</td>\n",
              "    </tr>\n",
              "  </tbody>\n",
              "</table>\n",
              "</div>"
            ],
            "text/plain": [
              "  Agency    Agency Type Distribution Channel  ... Gender  Age Claim\n",
              "0    CWT  Travel Agency               Online  ...    NaN   29     0\n",
              "1    EPX  Travel Agency               Online  ...    NaN   36     0\n",
              "2    EPX  Travel Agency               Online  ...    NaN   25     0\n",
              "3    C2B       Airlines               Online  ...      M   24     0\n",
              "4    EPX  Travel Agency               Online  ...    NaN   23     0\n",
              "\n",
              "[5 rows x 11 columns]"
            ]
          },
          "metadata": {
            "tags": []
          },
          "execution_count": 124
        }
      ]
    },
    {
      "cell_type": "code",
      "metadata": {
        "colab": {
          "base_uri": "https://localhost:8080/",
          "height": 204
        },
        "id": "d017CNr_77c2",
        "outputId": "5c3e5981-ac8e-4c09-ec8e-dc62877518b5"
      },
      "source": [
        "test_data.head()"
      ],
      "execution_count": 125,
      "outputs": [
        {
          "output_type": "execute_result",
          "data": {
            "text/html": [
              "<div>\n",
              "<style scoped>\n",
              "    .dataframe tbody tr th:only-of-type {\n",
              "        vertical-align: middle;\n",
              "    }\n",
              "\n",
              "    .dataframe tbody tr th {\n",
              "        vertical-align: top;\n",
              "    }\n",
              "\n",
              "    .dataframe thead th {\n",
              "        text-align: right;\n",
              "    }\n",
              "</style>\n",
              "<table border=\"1\" class=\"dataframe\">\n",
              "  <thead>\n",
              "    <tr style=\"text-align: right;\">\n",
              "      <th></th>\n",
              "      <th>Agency</th>\n",
              "      <th>Agency Type</th>\n",
              "      <th>Distribution Channel</th>\n",
              "      <th>Product Name</th>\n",
              "      <th>Duration</th>\n",
              "      <th>Destination</th>\n",
              "      <th>Net Sales</th>\n",
              "      <th>Commision (in value)</th>\n",
              "      <th>Gender</th>\n",
              "      <th>Age</th>\n",
              "    </tr>\n",
              "  </thead>\n",
              "  <tbody>\n",
              "    <tr>\n",
              "      <th>0</th>\n",
              "      <td>EPX</td>\n",
              "      <td>Travel Agency</td>\n",
              "      <td>Online</td>\n",
              "      <td>Cancellation Plan</td>\n",
              "      <td>24</td>\n",
              "      <td>HONG KONG</td>\n",
              "      <td>27.0</td>\n",
              "      <td>0.0</td>\n",
              "      <td>NaN</td>\n",
              "      <td>36</td>\n",
              "    </tr>\n",
              "    <tr>\n",
              "      <th>1</th>\n",
              "      <td>EPX</td>\n",
              "      <td>Travel Agency</td>\n",
              "      <td>Online</td>\n",
              "      <td>Cancellation Plan</td>\n",
              "      <td>51</td>\n",
              "      <td>JAPAN</td>\n",
              "      <td>45.0</td>\n",
              "      <td>0.0</td>\n",
              "      <td>NaN</td>\n",
              "      <td>36</td>\n",
              "    </tr>\n",
              "    <tr>\n",
              "      <th>2</th>\n",
              "      <td>EPX</td>\n",
              "      <td>Travel Agency</td>\n",
              "      <td>Online</td>\n",
              "      <td>Cancellation Plan</td>\n",
              "      <td>52</td>\n",
              "      <td>JAPAN</td>\n",
              "      <td>21.0</td>\n",
              "      <td>0.0</td>\n",
              "      <td>NaN</td>\n",
              "      <td>21</td>\n",
              "    </tr>\n",
              "    <tr>\n",
              "      <th>3</th>\n",
              "      <td>EPX</td>\n",
              "      <td>Travel Agency</td>\n",
              "      <td>Online</td>\n",
              "      <td>Cancellation Plan</td>\n",
              "      <td>89</td>\n",
              "      <td>SINGAPORE</td>\n",
              "      <td>11.0</td>\n",
              "      <td>0.0</td>\n",
              "      <td>NaN</td>\n",
              "      <td>30</td>\n",
              "    </tr>\n",
              "    <tr>\n",
              "      <th>4</th>\n",
              "      <td>EPX</td>\n",
              "      <td>Travel Agency</td>\n",
              "      <td>Online</td>\n",
              "      <td>Cancellation Plan</td>\n",
              "      <td>5</td>\n",
              "      <td>MALAYSIA</td>\n",
              "      <td>10.0</td>\n",
              "      <td>0.0</td>\n",
              "      <td>NaN</td>\n",
              "      <td>33</td>\n",
              "    </tr>\n",
              "  </tbody>\n",
              "</table>\n",
              "</div>"
            ],
            "text/plain": [
              "  Agency    Agency Type Distribution Channel  ... Commision (in value)  Gender Age\n",
              "0    EPX  Travel Agency               Online  ...                  0.0     NaN  36\n",
              "1    EPX  Travel Agency               Online  ...                  0.0     NaN  36\n",
              "2    EPX  Travel Agency               Online  ...                  0.0     NaN  21\n",
              "3    EPX  Travel Agency               Online  ...                  0.0     NaN  30\n",
              "4    EPX  Travel Agency               Online  ...                  0.0     NaN  33\n",
              "\n",
              "[5 rows x 10 columns]"
            ]
          },
          "metadata": {
            "tags": []
          },
          "execution_count": 125
        }
      ]
    },
    {
      "cell_type": "code",
      "metadata": {
        "colab": {
          "base_uri": "https://localhost:8080/"
        },
        "id": "HPdFLbKPm0Xp",
        "outputId": "d2bec6a0-2147-4e59-c558-207047a97560"
      },
      "source": [
        "insurance_data.isnull().mean()*100"
      ],
      "execution_count": 126,
      "outputs": [
        {
          "output_type": "execute_result",
          "data": {
            "text/plain": [
              "Agency                   0.000000\n",
              "Agency Type              0.000000\n",
              "Distribution Channel     0.000000\n",
              "Product Name             0.000000\n",
              "Duration                 0.000000\n",
              "Destination              0.000000\n",
              "Net Sales                0.000000\n",
              "Commision (in value)     0.000000\n",
              "Gender                  71.199751\n",
              "Age                      0.000000\n",
              "Claim                    0.000000\n",
              "dtype: float64"
            ]
          },
          "metadata": {
            "tags": []
          },
          "execution_count": 126
        }
      ]
    },
    {
      "cell_type": "code",
      "metadata": {
        "colab": {
          "base_uri": "https://localhost:8080/"
        },
        "id": "-G-LF7Zy8BFy",
        "outputId": "857a39cb-8ce1-4321-9c3e-3b825f9f4551"
      },
      "source": [
        "test_data.isnull().mean()*100"
      ],
      "execution_count": 127,
      "outputs": [
        {
          "output_type": "execute_result",
          "data": {
            "text/plain": [
              "Agency                   0.000000\n",
              "Agency Type              0.000000\n",
              "Distribution Channel     0.000000\n",
              "Product Name             0.000000\n",
              "Duration                 0.000000\n",
              "Destination              0.000000\n",
              "Net Sales                0.000000\n",
              "Commision (in value)     0.000000\n",
              "Gender                  71.286003\n",
              "Age                      0.000000\n",
              "dtype: float64"
            ]
          },
          "metadata": {
            "tags": []
          },
          "execution_count": 127
        }
      ]
    },
    {
      "cell_type": "code",
      "metadata": {
        "colab": {
          "base_uri": "https://localhost:8080/"
        },
        "id": "b5OHV6a2m0gJ",
        "outputId": "b1e62512-1327-46c1-c4f3-6248a8e372a8"
      },
      "source": [
        "insurance_data.info()"
      ],
      "execution_count": 128,
      "outputs": [
        {
          "output_type": "stream",
          "text": [
            "<class 'pandas.core.frame.DataFrame'>\n",
            "RangeIndex: 48260 entries, 0 to 48259\n",
            "Data columns (total 11 columns):\n",
            " #   Column                Non-Null Count  Dtype  \n",
            "---  ------                --------------  -----  \n",
            " 0   Agency                48260 non-null  object \n",
            " 1   Agency Type           48260 non-null  object \n",
            " 2   Distribution Channel  48260 non-null  object \n",
            " 3   Product Name          48260 non-null  object \n",
            " 4   Duration              48260 non-null  int64  \n",
            " 5   Destination           48260 non-null  object \n",
            " 6   Net Sales             48260 non-null  float64\n",
            " 7   Commision (in value)  48260 non-null  float64\n",
            " 8   Gender                13899 non-null  object \n",
            " 9   Age                   48260 non-null  int64  \n",
            " 10  Claim                 48260 non-null  int64  \n",
            "dtypes: float64(2), int64(3), object(6)\n",
            "memory usage: 4.1+ MB\n"
          ],
          "name": "stdout"
        }
      ]
    },
    {
      "cell_type": "code",
      "metadata": {
        "colab": {
          "base_uri": "https://localhost:8080/"
        },
        "id": "_uReCYuy8Ikf",
        "outputId": "e80e3d85-3854-41f3-e7c9-30bb5471892f"
      },
      "source": [
        "test_data.info()"
      ],
      "execution_count": 129,
      "outputs": [
        {
          "output_type": "stream",
          "text": [
            "<class 'pandas.core.frame.DataFrame'>\n",
            "RangeIndex: 15832 entries, 0 to 15831\n",
            "Data columns (total 10 columns):\n",
            " #   Column                Non-Null Count  Dtype  \n",
            "---  ------                --------------  -----  \n",
            " 0   Agency                15832 non-null  object \n",
            " 1   Agency Type           15832 non-null  object \n",
            " 2   Distribution Channel  15832 non-null  object \n",
            " 3   Product Name          15832 non-null  object \n",
            " 4   Duration              15832 non-null  int64  \n",
            " 5   Destination           15832 non-null  object \n",
            " 6   Net Sales             15832 non-null  float64\n",
            " 7   Commision (in value)  15832 non-null  float64\n",
            " 8   Gender                4546 non-null   object \n",
            " 9   Age                   15832 non-null  int64  \n",
            "dtypes: float64(2), int64(2), object(6)\n",
            "memory usage: 1.2+ MB\n"
          ],
          "name": "stdout"
        }
      ]
    },
    {
      "cell_type": "code",
      "metadata": {
        "colab": {
          "base_uri": "https://localhost:8080/"
        },
        "id": "adiUg_eFrcmn",
        "outputId": "9a797581-107a-4481-b60c-e6dadeddb364"
      },
      "source": [
        "test_data.shape"
      ],
      "execution_count": 130,
      "outputs": [
        {
          "output_type": "execute_result",
          "data": {
            "text/plain": [
              "(15832, 10)"
            ]
          },
          "metadata": {
            "tags": []
          },
          "execution_count": 130
        }
      ]
    },
    {
      "cell_type": "code",
      "metadata": {
        "colab": {
          "base_uri": "https://localhost:8080/",
          "height": 297
        },
        "id": "qVR1C9AMy6Bs",
        "outputId": "4ab79f70-c4fd-4d41-8f72-73030483038d"
      },
      "source": [
        "insurance_data.describe()"
      ],
      "execution_count": 131,
      "outputs": [
        {
          "output_type": "execute_result",
          "data": {
            "text/html": [
              "<div>\n",
              "<style scoped>\n",
              "    .dataframe tbody tr th:only-of-type {\n",
              "        vertical-align: middle;\n",
              "    }\n",
              "\n",
              "    .dataframe tbody tr th {\n",
              "        vertical-align: top;\n",
              "    }\n",
              "\n",
              "    .dataframe thead th {\n",
              "        text-align: right;\n",
              "    }\n",
              "</style>\n",
              "<table border=\"1\" class=\"dataframe\">\n",
              "  <thead>\n",
              "    <tr style=\"text-align: right;\">\n",
              "      <th></th>\n",
              "      <th>Duration</th>\n",
              "      <th>Net Sales</th>\n",
              "      <th>Commision (in value)</th>\n",
              "      <th>Age</th>\n",
              "      <th>Claim</th>\n",
              "    </tr>\n",
              "  </thead>\n",
              "  <tbody>\n",
              "    <tr>\n",
              "      <th>count</th>\n",
              "      <td>48260.000000</td>\n",
              "      <td>48260.000000</td>\n",
              "      <td>48260.000000</td>\n",
              "      <td>48260.000000</td>\n",
              "      <td>48260.000000</td>\n",
              "    </tr>\n",
              "    <tr>\n",
              "      <th>mean</th>\n",
              "      <td>49.546602</td>\n",
              "      <td>40.747647</td>\n",
              "      <td>9.811735</td>\n",
              "      <td>39.927269</td>\n",
              "      <td>0.014671</td>\n",
              "    </tr>\n",
              "    <tr>\n",
              "      <th>std</th>\n",
              "      <td>104.828147</td>\n",
              "      <td>48.823217</td>\n",
              "      <td>19.695339</td>\n",
              "      <td>14.027329</td>\n",
              "      <td>0.120231</td>\n",
              "    </tr>\n",
              "    <tr>\n",
              "      <th>min</th>\n",
              "      <td>-2.000000</td>\n",
              "      <td>-389.000000</td>\n",
              "      <td>0.000000</td>\n",
              "      <td>0.000000</td>\n",
              "      <td>0.000000</td>\n",
              "    </tr>\n",
              "    <tr>\n",
              "      <th>25%</th>\n",
              "      <td>9.000000</td>\n",
              "      <td>18.000000</td>\n",
              "      <td>0.000000</td>\n",
              "      <td>35.000000</td>\n",
              "      <td>0.000000</td>\n",
              "    </tr>\n",
              "    <tr>\n",
              "      <th>50%</th>\n",
              "      <td>22.000000</td>\n",
              "      <td>27.000000</td>\n",
              "      <td>0.000000</td>\n",
              "      <td>36.000000</td>\n",
              "      <td>0.000000</td>\n",
              "    </tr>\n",
              "    <tr>\n",
              "      <th>75%</th>\n",
              "      <td>53.000000</td>\n",
              "      <td>48.000000</td>\n",
              "      <td>11.630000</td>\n",
              "      <td>43.000000</td>\n",
              "      <td>0.000000</td>\n",
              "    </tr>\n",
              "    <tr>\n",
              "      <th>max</th>\n",
              "      <td>4881.000000</td>\n",
              "      <td>666.000000</td>\n",
              "      <td>262.760000</td>\n",
              "      <td>118.000000</td>\n",
              "      <td>1.000000</td>\n",
              "    </tr>\n",
              "  </tbody>\n",
              "</table>\n",
              "</div>"
            ],
            "text/plain": [
              "           Duration     Net Sales  ...           Age         Claim\n",
              "count  48260.000000  48260.000000  ...  48260.000000  48260.000000\n",
              "mean      49.546602     40.747647  ...     39.927269      0.014671\n",
              "std      104.828147     48.823217  ...     14.027329      0.120231\n",
              "min       -2.000000   -389.000000  ...      0.000000      0.000000\n",
              "25%        9.000000     18.000000  ...     35.000000      0.000000\n",
              "50%       22.000000     27.000000  ...     36.000000      0.000000\n",
              "75%       53.000000     48.000000  ...     43.000000      0.000000\n",
              "max     4881.000000    666.000000  ...    118.000000      1.000000\n",
              "\n",
              "[8 rows x 5 columns]"
            ]
          },
          "metadata": {
            "tags": []
          },
          "execution_count": 131
        }
      ]
    },
    {
      "cell_type": "code",
      "metadata": {
        "colab": {
          "base_uri": "https://localhost:8080/",
          "height": 221
        },
        "id": "XfcTqMkVy6aC",
        "outputId": "9ec74f72-99bf-41f7-cd76-552f52bdb748"
      },
      "source": [
        "numerical_feature = [feature for feature in insurance_data.columns if insurance_data[feature].dtype!='O']\r\n",
        "print(\"The number of numerical features are\",len(numerical_feature))\r\n",
        "insurance_data[numerical_feature].head()"
      ],
      "execution_count": 132,
      "outputs": [
        {
          "output_type": "stream",
          "text": [
            "The number of numerical features are 5\n"
          ],
          "name": "stdout"
        },
        {
          "output_type": "execute_result",
          "data": {
            "text/html": [
              "<div>\n",
              "<style scoped>\n",
              "    .dataframe tbody tr th:only-of-type {\n",
              "        vertical-align: middle;\n",
              "    }\n",
              "\n",
              "    .dataframe tbody tr th {\n",
              "        vertical-align: top;\n",
              "    }\n",
              "\n",
              "    .dataframe thead th {\n",
              "        text-align: right;\n",
              "    }\n",
              "</style>\n",
              "<table border=\"1\" class=\"dataframe\">\n",
              "  <thead>\n",
              "    <tr style=\"text-align: right;\">\n",
              "      <th></th>\n",
              "      <th>Duration</th>\n",
              "      <th>Net Sales</th>\n",
              "      <th>Commision (in value)</th>\n",
              "      <th>Age</th>\n",
              "      <th>Claim</th>\n",
              "    </tr>\n",
              "  </thead>\n",
              "  <tbody>\n",
              "    <tr>\n",
              "      <th>0</th>\n",
              "      <td>61</td>\n",
              "      <td>19.8</td>\n",
              "      <td>11.88</td>\n",
              "      <td>29</td>\n",
              "      <td>0</td>\n",
              "    </tr>\n",
              "    <tr>\n",
              "      <th>1</th>\n",
              "      <td>93</td>\n",
              "      <td>63.0</td>\n",
              "      <td>0.00</td>\n",
              "      <td>36</td>\n",
              "      <td>0</td>\n",
              "    </tr>\n",
              "    <tr>\n",
              "      <th>2</th>\n",
              "      <td>22</td>\n",
              "      <td>22.0</td>\n",
              "      <td>0.00</td>\n",
              "      <td>25</td>\n",
              "      <td>0</td>\n",
              "    </tr>\n",
              "    <tr>\n",
              "      <th>3</th>\n",
              "      <td>14</td>\n",
              "      <td>54.5</td>\n",
              "      <td>13.63</td>\n",
              "      <td>24</td>\n",
              "      <td>0</td>\n",
              "    </tr>\n",
              "    <tr>\n",
              "      <th>4</th>\n",
              "      <td>90</td>\n",
              "      <td>10.0</td>\n",
              "      <td>0.00</td>\n",
              "      <td>23</td>\n",
              "      <td>0</td>\n",
              "    </tr>\n",
              "  </tbody>\n",
              "</table>\n",
              "</div>"
            ],
            "text/plain": [
              "   Duration  Net Sales  Commision (in value)  Age  Claim\n",
              "0        61       19.8                 11.88   29      0\n",
              "1        93       63.0                  0.00   36      0\n",
              "2        22       22.0                  0.00   25      0\n",
              "3        14       54.5                 13.63   24      0\n",
              "4        90       10.0                  0.00   23      0"
            ]
          },
          "metadata": {
            "tags": []
          },
          "execution_count": 132
        }
      ]
    },
    {
      "cell_type": "code",
      "metadata": {
        "colab": {
          "base_uri": "https://localhost:8080/"
        },
        "id": "s-ON3LAEy6pV",
        "outputId": "aa12d73b-e4b5-41e3-c999-c955660f2370"
      },
      "source": [
        "for feature in insurance_data.columns:\r\n",
        "  print(feature,\":\",insurance_data[feature].nunique(),\"\\n\")"
      ],
      "execution_count": 133,
      "outputs": [
        {
          "output_type": "stream",
          "text": [
            "Agency : 16 \n",
            "\n",
            "Agency Type : 2 \n",
            "\n",
            "Distribution Channel : 2 \n",
            "\n",
            "Product Name : 26 \n",
            "\n",
            "Duration : 442 \n",
            "\n",
            "Destination : 141 \n",
            "\n",
            "Net Sales : 1005 \n",
            "\n",
            "Commision (in value) : 922 \n",
            "\n",
            "Gender : 2 \n",
            "\n",
            "Age : 88 \n",
            "\n",
            "Claim : 2 \n",
            "\n"
          ],
          "name": "stdout"
        }
      ]
    },
    {
      "cell_type": "code",
      "metadata": {
        "colab": {
          "base_uri": "https://localhost:8080/"
        },
        "id": "YnI8VOfXy6vm",
        "outputId": "18f837b6-5e98-4a35-e9e8-69be4dc98ba3"
      },
      "source": [
        "features = [feature for feature in insurance_data.columns if insurance_data[feature].nunique()<=2 and insurance_data[feature].dtype =='O']\r\n",
        "print(features,'\\n'*2)\r\n",
        "for i in features:\r\n",
        "  print(i,':' ,insurance_data[i].unique(),\"\\n\")"
      ],
      "execution_count": 134,
      "outputs": [
        {
          "output_type": "stream",
          "text": [
            "['Agency Type', 'Distribution Channel', 'Gender'] \n",
            "\n",
            "\n",
            "Agency Type : ['Travel Agency' 'Airlines'] \n",
            "\n",
            "Distribution Channel : ['Online' 'Offline'] \n",
            "\n",
            "Gender : [nan 'M' 'F'] \n",
            "\n"
          ],
          "name": "stdout"
        }
      ]
    },
    {
      "cell_type": "code",
      "metadata": {
        "id": "eA7IB4Wcy63q"
      },
      "source": [
        "insurance_data.drop('Gender',axis=1,inplace = True)\r\n",
        "test_data.drop('Gender',axis = 1,inplace = True)"
      ],
      "execution_count": 135,
      "outputs": []
    },
    {
      "cell_type": "code",
      "metadata": {
        "colab": {
          "base_uri": "https://localhost:8080/",
          "height": 204
        },
        "id": "nPpVcuUzmJJi",
        "outputId": "f64693b4-91ba-4934-f769-11d6e7a00fce"
      },
      "source": [
        "categorical_feature = [feature for feature in insurance_data.columns if insurance_data[feature].dtype=='O']\r\n",
        "insurance_data[categorical_feature].head()"
      ],
      "execution_count": 136,
      "outputs": [
        {
          "output_type": "execute_result",
          "data": {
            "text/html": [
              "<div>\n",
              "<style scoped>\n",
              "    .dataframe tbody tr th:only-of-type {\n",
              "        vertical-align: middle;\n",
              "    }\n",
              "\n",
              "    .dataframe tbody tr th {\n",
              "        vertical-align: top;\n",
              "    }\n",
              "\n",
              "    .dataframe thead th {\n",
              "        text-align: right;\n",
              "    }\n",
              "</style>\n",
              "<table border=\"1\" class=\"dataframe\">\n",
              "  <thead>\n",
              "    <tr style=\"text-align: right;\">\n",
              "      <th></th>\n",
              "      <th>Agency</th>\n",
              "      <th>Agency Type</th>\n",
              "      <th>Distribution Channel</th>\n",
              "      <th>Product Name</th>\n",
              "      <th>Destination</th>\n",
              "    </tr>\n",
              "  </thead>\n",
              "  <tbody>\n",
              "    <tr>\n",
              "      <th>0</th>\n",
              "      <td>CWT</td>\n",
              "      <td>Travel Agency</td>\n",
              "      <td>Online</td>\n",
              "      <td>Rental Vehicle Excess Insurance</td>\n",
              "      <td>UNITED KINGDOM</td>\n",
              "    </tr>\n",
              "    <tr>\n",
              "      <th>1</th>\n",
              "      <td>EPX</td>\n",
              "      <td>Travel Agency</td>\n",
              "      <td>Online</td>\n",
              "      <td>Cancellation Plan</td>\n",
              "      <td>NEW ZEALAND</td>\n",
              "    </tr>\n",
              "    <tr>\n",
              "      <th>2</th>\n",
              "      <td>EPX</td>\n",
              "      <td>Travel Agency</td>\n",
              "      <td>Online</td>\n",
              "      <td>2 way Comprehensive Plan</td>\n",
              "      <td>UNITED STATES</td>\n",
              "    </tr>\n",
              "    <tr>\n",
              "      <th>3</th>\n",
              "      <td>C2B</td>\n",
              "      <td>Airlines</td>\n",
              "      <td>Online</td>\n",
              "      <td>Silver Plan</td>\n",
              "      <td>SINGAPORE</td>\n",
              "    </tr>\n",
              "    <tr>\n",
              "      <th>4</th>\n",
              "      <td>EPX</td>\n",
              "      <td>Travel Agency</td>\n",
              "      <td>Online</td>\n",
              "      <td>Cancellation Plan</td>\n",
              "      <td>VIET NAM</td>\n",
              "    </tr>\n",
              "  </tbody>\n",
              "</table>\n",
              "</div>"
            ],
            "text/plain": [
              "  Agency    Agency Type  ...                     Product Name     Destination\n",
              "0    CWT  Travel Agency  ...  Rental Vehicle Excess Insurance  UNITED KINGDOM\n",
              "1    EPX  Travel Agency  ...                Cancellation Plan     NEW ZEALAND\n",
              "2    EPX  Travel Agency  ...         2 way Comprehensive Plan   UNITED STATES\n",
              "3    C2B       Airlines  ...                      Silver Plan       SINGAPORE\n",
              "4    EPX  Travel Agency  ...                Cancellation Plan        VIET NAM\n",
              "\n",
              "[5 rows x 5 columns]"
            ]
          },
          "metadata": {
            "tags": []
          },
          "execution_count": 136
        }
      ]
    },
    {
      "cell_type": "code",
      "metadata": {
        "colab": {
          "base_uri": "https://localhost:8080/"
        },
        "id": "SDx1iIJcmJYW",
        "outputId": "7a946b68-04c3-4ccc-ec07-133cf56f9016"
      },
      "source": [
        "for i in categorical_feature:\r\n",
        "  print(i,':', insurance_data[i].nunique(),'\\n')"
      ],
      "execution_count": 137,
      "outputs": [
        {
          "output_type": "stream",
          "text": [
            "Agency : 16 \n",
            "\n",
            "Agency Type : 2 \n",
            "\n",
            "Distribution Channel : 2 \n",
            "\n",
            "Product Name : 26 \n",
            "\n",
            "Destination : 141 \n",
            "\n"
          ],
          "name": "stdout"
        }
      ]
    },
    {
      "cell_type": "code",
      "metadata": {
        "id": "iGCsjKK3mJkC"
      },
      "source": [
        "import seaborn as sns"
      ],
      "execution_count": 138,
      "outputs": []
    },
    {
      "cell_type": "code",
      "metadata": {
        "id": "tdQnKe82mLhk",
        "colab": {
          "base_uri": "https://localhost:8080/",
          "height": 279
        },
        "outputId": "0f751ae2-2962-4eab-ab8f-c6476bc2af84"
      },
      "source": [
        "insurance_data.Claim.value_counts().plot(kind='bar')"
      ],
      "execution_count": 139,
      "outputs": [
        {
          "output_type": "execute_result",
          "data": {
            "text/plain": [
              "<matplotlib.axes._subplots.AxesSubplot at 0x7fe2e2612390>"
            ]
          },
          "metadata": {
            "tags": []
          },
          "execution_count": 139
        },
        {
          "output_type": "display_data",
          "data": {
            "image/png": "[encoded data removed]",
            "text/plain": [
              "<Figure size 432x288 with 1 Axes>"
            ]
          },
          "metadata": {
            "tags": [],
            "needs_background": "light"
          }
        }
      ]
    },
    {
      "cell_type": "code",
      "metadata": {
        "id": "yDlUNa4dmL1U",
        "colab": {
          "base_uri": "https://localhost:8080/",
          "height": 831
        },
        "outputId": "cfd3e17d-2812-4c29-90b1-b6fdb60cf28d"
      },
      "source": [
        "plt.figure(figsize=(50,40))\r\n",
        "insurance_data.Destination.value_counts().plot(kind='bar')\r\n",
        "\r\n",
        "plt.show()"
      ],
      "execution_count": 140,
      "outputs": [
        {
          "output_type": "display_data",
          "data": {
            "image/png": "[encoded data removed]",
            "text/plain": [
              "<Figure size 3600x2880 with 1 Axes>"
            ]
          },
          "metadata": {
            "tags": [],
            "needs_background": "light"
          }
        }
      ]
    },
    {
      "cell_type": "code",
      "metadata": {
        "id": "zcyn1Dr8mL_s",
        "colab": {
          "base_uri": "https://localhost:8080/",
          "height": 294
        },
        "outputId": "f3de35bd-b6ea-493b-e438-5e4cbcfe5a18"
      },
      "source": [
        "insurance_data[insurance_data['Destination']=='SINGAPORE'].groupby('Claim').count()['Destination'].plot(kind='bar')"
      ],
      "execution_count": 141,
      "outputs": [
        {
          "output_type": "execute_result",
          "data": {
            "text/plain": [
              "<matplotlib.axes._subplots.AxesSubplot at 0x7fe2e23142b0>"
            ]
          },
          "metadata": {
            "tags": []
          },
          "execution_count": 141
        },
        {
          "output_type": "display_data",
          "data": {
            "image/png": "[encoded data removed]",
            "text/plain": [
              "<Figure size 432x288 with 1 Axes>"
            ]
          },
          "metadata": {
            "tags": [],
            "needs_background": "light"
          }
        }
      ]
    },
    {
      "cell_type": "code",
      "metadata": {
        "colab": {
          "base_uri": "https://localhost:8080/"
        },
        "id": "Z-h4SsVbOIsj",
        "outputId": "b5fa9a58-b2a9-45b1-fec8-3d94bec6b0f2"
      },
      "source": [
        "temp = insurance_data.groupby('Destination')['Claim'].count()/len(insurance_data)\r\n",
        "temp_df = temp[temp>0.01].index\r\n",
        "insurance_data['Destination'] = np.where(insurance_data['Destination'].isin(temp_df),insurance_data['Destination'],\"Others\")\r\n",
        "insurance_data.Destination.unique()"
      ],
      "execution_count": 142,
      "outputs": [
        {
          "output_type": "execute_result",
          "data": {
            "text/plain": [
              "array(['UNITED KINGDOM', 'Others', 'UNITED STATES', 'SINGAPORE',\n",
              "       'VIET NAM', 'KOREA, REPUBLIC OF', 'THAILAND', 'AUSTRALIA',\n",
              "       'MALAYSIA', 'INDIA', 'TAIWAN, PROVINCE OF CHINA', 'JAPAN',\n",
              "       'PHILIPPINES', 'HONG KONG', 'BRUNEI DARUSSALAM', 'MYANMAR',\n",
              "       'CHINA', 'INDONESIA'], dtype=object)"
            ]
          },
          "metadata": {
            "tags": []
          },
          "execution_count": 142
        }
      ]
    },
    {
      "cell_type": "code",
      "metadata": {
        "colab": {
          "base_uri": "https://localhost:8080/"
        },
        "id": "uwIO74OYOJQE",
        "outputId": "6aa430d5-1507-4658-8a3f-486980aaa83b"
      },
      "source": [
        "temp_df1 = ['UNITED KINGDOM', 'UNITED STATES', 'SINGAPORE',\r\n",
        "       'VIET NAM', 'KOREA, REPUBLIC OF', 'THAILAND', 'AUSTRALIA',\r\n",
        "       'MALAYSIA', 'INDIA', 'TAIWAN, PROVINCE OF CHINA', 'JAPAN',\r\n",
        "       'PHILIPPINES', 'HONG KONG', 'BRUNEI DARUSSALAM', 'MYANMAR',\r\n",
        "       'CHINA', 'INDONESIA']\r\n",
        "#temp_df = temp[temp>0.01].index\r\n",
        "test_data['Destination'] = np.where(test_data['Destination'].isin(temp_df1),test_data['Destination'],\"Others\")\r\n",
        "test_data.Destination.unique()"
      ],
      "execution_count": 143,
      "outputs": [
        {
          "output_type": "execute_result",
          "data": {
            "text/plain": [
              "array(['HONG KONG', 'JAPAN', 'SINGAPORE', 'MALAYSIA', 'Others',\n",
              "       'INDONESIA', 'KOREA, REPUBLIC OF', 'VIET NAM', 'THAILAND',\n",
              "       'PHILIPPINES', 'CHINA', 'UNITED KINGDOM', 'AUSTRALIA', 'INDIA',\n",
              "       'TAIWAN, PROVINCE OF CHINA', 'MYANMAR', 'UNITED STATES',\n",
              "       'BRUNEI DARUSSALAM'], dtype=object)"
            ]
          },
          "metadata": {
            "tags": []
          },
          "execution_count": 143
        }
      ]
    },
    {
      "cell_type": "code",
      "metadata": {
        "colab": {
          "base_uri": "https://localhost:8080/"
        },
        "id": "Kue3UHTsOJmh",
        "outputId": "a9ea4322-5925-48c6-ce89-8949cdb12ac2"
      },
      "source": [
        "insurance_data.groupby('Product Name')['Claim'].value_counts()\r\n"
      ],
      "execution_count": 144,
      "outputs": [
        {
          "output_type": "execute_result",
          "data": {
            "text/plain": [
              "Product Name                          Claim\n",
              "1 way Comprehensive Plan              0         2502\n",
              "                                      1            8\n",
              "2 way Comprehensive Plan              0         9890\n",
              "                                      1          110\n",
              "24 Protect                            0          183\n",
              "Annual Gold Plan                      0          132\n",
              "                                      1           19\n",
              "Annual Silver Plan                    0          966\n",
              "                                      1          122\n",
              "Annual Travel Protect Gold            0           68\n",
              "                                      1            9\n",
              "Annual Travel Protect Platinum        0           36\n",
              "Annual Travel Protect Silver          0           62\n",
              "                                      1            2\n",
              "Basic Plan                            0         4191\n",
              "                                      1           18\n",
              "Bronze Plan                           0         2905\n",
              "                                      1          152\n",
              "Cancellation Plan                     0        14165\n",
              "                                      1           37\n",
              "Child Comprehensive Plan              0            7\n",
              "Comprehensive Plan                    0          275\n",
              "                                      1            4\n",
              "Gold Plan                             0          262\n",
              "                                      1           17\n",
              "Individual Comprehensive Plan         0           51\n",
              "                                      1            2\n",
              "Premier Plan                          0          141\n",
              "                                      1            2\n",
              "Rental Vehicle Excess Insurance       0         6506\n",
              "                                      1           66\n",
              "Silver Plan                           0         1600\n",
              "                                      1          105\n",
              "Single Trip Travel Protect Gold       0          149\n",
              "                                      1            7\n",
              "Single Trip Travel Protect Platinum   0           50\n",
              "                                      1            3\n",
              "Single Trip Travel Protect Silver     0          143\n",
              "                                      1            3\n",
              "Spouse or Parents Comprehensive Plan  0           11\n",
              "                                      1            1\n",
              "Ticket Protector                      0          803\n",
              "                                      1            4\n",
              "Travel Cruise Protect                 0          387\n",
              "                                      1            1\n",
              "Travel Cruise Protect Family          0            1\n",
              "Value Plan                            0         2066\n",
              "                                      1           16\n",
              "Name: Claim, dtype: int64"
            ]
          },
          "metadata": {
            "tags": []
          },
          "execution_count": 144
        }
      ]
    },
    {
      "cell_type": "code",
      "metadata": {
        "colab": {
          "base_uri": "https://localhost:8080/"
        },
        "id": "oeNKd9SmOJvJ",
        "outputId": "adbc8cc5-e55f-4166-9eb4-1ee1303c4dc0"
      },
      "source": [
        "temp = insurance_data.groupby('Product Name')['Claim'].count()/len(insurance_data)\r\n",
        "temp_df = temp[temp>0.01].index\r\n",
        "insurance_data['Product Name'] = np.where(insurance_data['Product Name'].isin(temp_df),insurance_data['Product Name'],\"Others\")\r\n",
        "insurance_data['Product Name'].unique()"
      ],
      "execution_count": 145,
      "outputs": [
        {
          "output_type": "execute_result",
          "data": {
            "text/plain": [
              "array(['Rental Vehicle Excess Insurance', 'Cancellation Plan',\n",
              "       '2 way Comprehensive Plan', 'Silver Plan',\n",
              "       '1 way Comprehensive Plan', 'Basic Plan', 'Others',\n",
              "       'Annual Silver Plan', 'Value Plan', 'Bronze Plan',\n",
              "       'Ticket Protector'], dtype=object)"
            ]
          },
          "metadata": {
            "tags": []
          },
          "execution_count": 145
        }
      ]
    },
    {
      "cell_type": "code",
      "metadata": {
        "colab": {
          "base_uri": "https://localhost:8080/"
        },
        "id": "WVCO1rwpOJ5X",
        "outputId": "ba3b8f5c-006b-43e4-ea0d-7f7f680b2a9e"
      },
      "source": [
        "temp_df1 = ['Rental Vehicle Excess Insurance', 'Cancellation Plan',\r\n",
        "       '2 way Comprehensive Plan', 'Silver Plan',\r\n",
        "       '1 way Comprehensive Plan', 'Basic Plan',\r\n",
        "       'Annual Silver Plan', 'Value Plan', 'Bronze Plan',\r\n",
        "       'Ticket Protector']\r\n",
        "#temp_df = temp[temp>0.01].index\r\n",
        "test_data['Product Name'] = np.where(test_data['Product Name'].isin(temp_df1),test_data['Product Name'],\"Others\")\r\n",
        "test_data['Product Name'].unique()"
      ],
      "execution_count": 146,
      "outputs": [
        {
          "output_type": "execute_result",
          "data": {
            "text/plain": [
              "array(['Cancellation Plan', 'Rental Vehicle Excess Insurance',\n",
              "       'Bronze Plan', 'Silver Plan', '2 way Comprehensive Plan', 'Others',\n",
              "       'Basic Plan', '1 way Comprehensive Plan', 'Value Plan',\n",
              "       'Annual Silver Plan', 'Ticket Protector'], dtype=object)"
            ]
          },
          "metadata": {
            "tags": []
          },
          "execution_count": 146
        }
      ]
    },
    {
      "cell_type": "code",
      "metadata": {
        "id": "Rx4rW0oUOKTi",
        "colab": {
          "base_uri": "https://localhost:8080/",
          "height": 326
        },
        "outputId": "8b022f88-4aed-44cc-b6fe-f5ca2063170d"
      },
      "source": [
        "print(insurance_data.shape)\r\n",
        "#insurance_data[catagorical_features] = insurance_data[categorical_features].fillna(insurance_data[categorical_features].mode().iloc[0])\r\n",
        "insurance_data = pd.get_dummies(insurance_data, columns=categorical_feature)\r\n",
        "print(insurance_data.shape)\r\n",
        "insurance_data.head()"
      ],
      "execution_count": 147,
      "outputs": [
        {
          "output_type": "stream",
          "text": [
            "(48260, 10)\n",
            "(48260, 54)\n"
          ],
          "name": "stdout"
        },
        {
          "output_type": "execute_result",
          "data": {
            "text/html": [
              "<div>\n",
              "<style scoped>\n",
              "    .dataframe tbody tr th:only-of-type {\n",
              "        vertical-align: middle;\n",
              "    }\n",
              "\n",
              "    .dataframe tbody tr th {\n",
              "        vertical-align: top;\n",
              "    }\n",
              "\n",
              "    .dataframe thead th {\n",
              "        text-align: right;\n",
              "    }\n",
              "</style>\n",
              "<table border=\"1\" class=\"dataframe\">\n",
              "  <thead>\n",
              "    <tr style=\"text-align: right;\">\n",
              "      <th></th>\n",
              "      <th>Duration</th>\n",
              "      <th>Net Sales</th>\n",
              "      <th>Commision (in value)</th>\n",
              "      <th>Age</th>\n",
              "      <th>Claim</th>\n",
              "      <th>Agency_ADM</th>\n",
              "      <th>Agency_ART</th>\n",
              "      <th>Agency_C2B</th>\n",
              "      <th>Agency_CBH</th>\n",
              "      <th>Agency_CCR</th>\n",
              "      <th>Agency_CSR</th>\n",
              "      <th>Agency_CWT</th>\n",
              "      <th>Agency_EPX</th>\n",
              "      <th>Agency_JWT</th>\n",
              "      <th>Agency_JZI</th>\n",
              "      <th>Agency_KML</th>\n",
              "      <th>Agency_LWC</th>\n",
              "      <th>Agency_RAB</th>\n",
              "      <th>Agency_SSI</th>\n",
              "      <th>Agency_TST</th>\n",
              "      <th>Agency_TTW</th>\n",
              "      <th>Agency Type_Airlines</th>\n",
              "      <th>Agency Type_Travel Agency</th>\n",
              "      <th>Distribution Channel_Offline</th>\n",
              "      <th>Distribution Channel_Online</th>\n",
              "      <th>Product Name_1 way Comprehensive Plan</th>\n",
              "      <th>Product Name_2 way Comprehensive Plan</th>\n",
              "      <th>Product Name_Annual Silver Plan</th>\n",
              "      <th>Product Name_Basic Plan</th>\n",
              "      <th>Product Name_Bronze Plan</th>\n",
              "      <th>Product Name_Cancellation Plan</th>\n",
              "      <th>Product Name_Others</th>\n",
              "      <th>Product Name_Rental Vehicle Excess Insurance</th>\n",
              "      <th>Product Name_Silver Plan</th>\n",
              "      <th>Product Name_Ticket Protector</th>\n",
              "      <th>Product Name_Value Plan</th>\n",
              "      <th>Destination_AUSTRALIA</th>\n",
              "      <th>Destination_BRUNEI DARUSSALAM</th>\n",
              "      <th>Destination_CHINA</th>\n",
              "      <th>Destination_HONG KONG</th>\n",
              "      <th>Destination_INDIA</th>\n",
              "      <th>Destination_INDONESIA</th>\n",
              "      <th>Destination_JAPAN</th>\n",
              "      <th>Destination_KOREA, REPUBLIC OF</th>\n",
              "      <th>Destination_MALAYSIA</th>\n",
              "      <th>Destination_MYANMAR</th>\n",
              "      <th>Destination_Others</th>\n",
              "      <th>Destination_PHILIPPINES</th>\n",
              "      <th>Destination_SINGAPORE</th>\n",
              "      <th>Destination_TAIWAN, PROVINCE OF CHINA</th>\n",
              "      <th>Destination_THAILAND</th>\n",
              "      <th>Destination_UNITED KINGDOM</th>\n",
              "      <th>Destination_UNITED STATES</th>\n",
              "      <th>Destination_VIET NAM</th>\n",
              "    </tr>\n",
              "  </thead>\n",
              "  <tbody>\n",
              "    <tr>\n",
              "      <th>0</th>\n",
              "      <td>61</td>\n",
              "      <td>19.8</td>\n",
              "      <td>11.88</td>\n",
              "      <td>29</td>\n",
              "      <td>0</td>\n",
              "      <td>0</td>\n",
              "      <td>0</td>\n",
              "      <td>0</td>\n",
              "      <td>0</td>\n",
              "      <td>0</td>\n",
              "      <td>0</td>\n",
              "      <td>1</td>\n",
              "      <td>0</td>\n",
              "      <td>0</td>\n",
              "      <td>0</td>\n",
              "      <td>0</td>\n",
              "      <td>0</td>\n",
              "      <td>0</td>\n",
              "      <td>0</td>\n",
              "      <td>0</td>\n",
              "      <td>0</td>\n",
              "      <td>0</td>\n",
              "      <td>1</td>\n",
              "      <td>0</td>\n",
              "      <td>1</td>\n",
              "      <td>0</td>\n",
              "      <td>0</td>\n",
              "      <td>0</td>\n",
              "      <td>0</td>\n",
              "      <td>0</td>\n",
              "      <td>0</td>\n",
              "      <td>0</td>\n",
              "      <td>1</td>\n",
              "      <td>0</td>\n",
              "      <td>0</td>\n",
              "      <td>0</td>\n",
              "      <td>0</td>\n",
              "      <td>0</td>\n",
              "      <td>0</td>\n",
              "      <td>0</td>\n",
              "      <td>0</td>\n",
              "      <td>0</td>\n",
              "      <td>0</td>\n",
              "      <td>0</td>\n",
              "      <td>0</td>\n",
              "      <td>0</td>\n",
              "      <td>0</td>\n",
              "      <td>0</td>\n",
              "      <td>0</td>\n",
              "      <td>0</td>\n",
              "      <td>0</td>\n",
              "      <td>1</td>\n",
              "      <td>0</td>\n",
              "      <td>0</td>\n",
              "    </tr>\n",
              "    <tr>\n",
              "      <th>1</th>\n",
              "      <td>93</td>\n",
              "      <td>63.0</td>\n",
              "      <td>0.00</td>\n",
              "      <td>36</td>\n",
              "      <td>0</td>\n",
              "      <td>0</td>\n",
              "      <td>0</td>\n",
              "      <td>0</td>\n",
              "      <td>0</td>\n",
              "      <td>0</td>\n",
              "      <td>0</td>\n",
              "      <td>0</td>\n",
              "      <td>1</td>\n",
              "      <td>0</td>\n",
              "      <td>0</td>\n",
              "      <td>0</td>\n",
              "      <td>0</td>\n",
              "      <td>0</td>\n",
              "      <td>0</td>\n",
              "      <td>0</td>\n",
              "      <td>0</td>\n",
              "      <td>0</td>\n",
              "      <td>1</td>\n",
              "      <td>0</td>\n",
              "      <td>1</td>\n",
              "      <td>0</td>\n",
              "      <td>0</td>\n",
              "      <td>0</td>\n",
              "      <td>0</td>\n",
              "      <td>0</td>\n",
              "      <td>1</td>\n",
              "      <td>0</td>\n",
              "      <td>0</td>\n",
              "      <td>0</td>\n",
              "      <td>0</td>\n",
              "      <td>0</td>\n",
              "      <td>0</td>\n",
              "      <td>0</td>\n",
              "      <td>0</td>\n",
              "      <td>0</td>\n",
              "      <td>0</td>\n",
              "      <td>0</td>\n",
              "      <td>0</td>\n",
              "      <td>0</td>\n",
              "      <td>0</td>\n",
              "      <td>0</td>\n",
              "      <td>1</td>\n",
              "      <td>0</td>\n",
              "      <td>0</td>\n",
              "      <td>0</td>\n",
              "      <td>0</td>\n",
              "      <td>0</td>\n",
              "      <td>0</td>\n",
              "      <td>0</td>\n",
              "    </tr>\n",
              "    <tr>\n",
              "      <th>2</th>\n",
              "      <td>22</td>\n",
              "      <td>22.0</td>\n",
              "      <td>0.00</td>\n",
              "      <td>25</td>\n",
              "      <td>0</td>\n",
              "      <td>0</td>\n",
              "      <td>0</td>\n",
              "      <td>0</td>\n",
              "      <td>0</td>\n",
              "      <td>0</td>\n",
              "      <td>0</td>\n",
              "      <td>0</td>\n",
              "      <td>1</td>\n",
              "      <td>0</td>\n",
              "      <td>0</td>\n",
              "      <td>0</td>\n",
              "      <td>0</td>\n",
              "      <td>0</td>\n",
              "      <td>0</td>\n",
              "      <td>0</td>\n",
              "      <td>0</td>\n",
              "      <td>0</td>\n",
              "      <td>1</td>\n",
              "      <td>0</td>\n",
              "      <td>1</td>\n",
              "      <td>0</td>\n",
              "      <td>1</td>\n",
              "      <td>0</td>\n",
              "      <td>0</td>\n",
              "      <td>0</td>\n",
              "      <td>0</td>\n",
              "      <td>0</td>\n",
              "      <td>0</td>\n",
              "      <td>0</td>\n",
              "      <td>0</td>\n",
              "      <td>0</td>\n",
              "      <td>0</td>\n",
              "      <td>0</td>\n",
              "      <td>0</td>\n",
              "      <td>0</td>\n",
              "      <td>0</td>\n",
              "      <td>0</td>\n",
              "      <td>0</td>\n",
              "      <td>0</td>\n",
              "      <td>0</td>\n",
              "      <td>0</td>\n",
              "      <td>0</td>\n",
              "      <td>0</td>\n",
              "      <td>0</td>\n",
              "      <td>0</td>\n",
              "      <td>0</td>\n",
              "      <td>0</td>\n",
              "      <td>1</td>\n",
              "      <td>0</td>\n",
              "    </tr>\n",
              "    <tr>\n",
              "      <th>3</th>\n",
              "      <td>14</td>\n",
              "      <td>54.5</td>\n",
              "      <td>13.63</td>\n",
              "      <td>24</td>\n",
              "      <td>0</td>\n",
              "      <td>0</td>\n",
              "      <td>0</td>\n",
              "      <td>1</td>\n",
              "      <td>0</td>\n",
              "      <td>0</td>\n",
              "      <td>0</td>\n",
              "      <td>0</td>\n",
              "      <td>0</td>\n",
              "      <td>0</td>\n",
              "      <td>0</td>\n",
              "      <td>0</td>\n",
              "      <td>0</td>\n",
              "      <td>0</td>\n",
              "      <td>0</td>\n",
              "      <td>0</td>\n",
              "      <td>0</td>\n",
              "      <td>1</td>\n",
              "      <td>0</td>\n",
              "      <td>0</td>\n",
              "      <td>1</td>\n",
              "      <td>0</td>\n",
              "      <td>0</td>\n",
              "      <td>0</td>\n",
              "      <td>0</td>\n",
              "      <td>0</td>\n",
              "      <td>0</td>\n",
              "      <td>0</td>\n",
              "      <td>0</td>\n",
              "      <td>1</td>\n",
              "      <td>0</td>\n",
              "      <td>0</td>\n",
              "      <td>0</td>\n",
              "      <td>0</td>\n",
              "      <td>0</td>\n",
              "      <td>0</td>\n",
              "      <td>0</td>\n",
              "      <td>0</td>\n",
              "      <td>0</td>\n",
              "      <td>0</td>\n",
              "      <td>0</td>\n",
              "      <td>0</td>\n",
              "      <td>0</td>\n",
              "      <td>0</td>\n",
              "      <td>1</td>\n",
              "      <td>0</td>\n",
              "      <td>0</td>\n",
              "      <td>0</td>\n",
              "      <td>0</td>\n",
              "      <td>0</td>\n",
              "    </tr>\n",
              "    <tr>\n",
              "      <th>4</th>\n",
              "      <td>90</td>\n",
              "      <td>10.0</td>\n",
              "      <td>0.00</td>\n",
              "      <td>23</td>\n",
              "      <td>0</td>\n",
              "      <td>0</td>\n",
              "      <td>0</td>\n",
              "      <td>0</td>\n",
              "      <td>0</td>\n",
              "      <td>0</td>\n",
              "      <td>0</td>\n",
              "      <td>0</td>\n",
              "      <td>1</td>\n",
              "      <td>0</td>\n",
              "      <td>0</td>\n",
              "      <td>0</td>\n",
              "      <td>0</td>\n",
              "      <td>0</td>\n",
              "      <td>0</td>\n",
              "      <td>0</td>\n",
              "      <td>0</td>\n",
              "      <td>0</td>\n",
              "      <td>1</td>\n",
              "      <td>0</td>\n",
              "      <td>1</td>\n",
              "      <td>0</td>\n",
              "      <td>0</td>\n",
              "      <td>0</td>\n",
              "      <td>0</td>\n",
              "      <td>0</td>\n",
              "      <td>1</td>\n",
              "      <td>0</td>\n",
              "      <td>0</td>\n",
              "      <td>0</td>\n",
              "      <td>0</td>\n",
              "      <td>0</td>\n",
              "      <td>0</td>\n",
              "      <td>0</td>\n",
              "      <td>0</td>\n",
              "      <td>0</td>\n",
              "      <td>0</td>\n",
              "      <td>0</td>\n",
              "      <td>0</td>\n",
              "      <td>0</td>\n",
              "      <td>0</td>\n",
              "      <td>0</td>\n",
              "      <td>0</td>\n",
              "      <td>0</td>\n",
              "      <td>0</td>\n",
              "      <td>0</td>\n",
              "      <td>0</td>\n",
              "      <td>0</td>\n",
              "      <td>0</td>\n",
              "      <td>1</td>\n",
              "    </tr>\n",
              "  </tbody>\n",
              "</table>\n",
              "</div>"
            ],
            "text/plain": [
              "   Duration  Net Sales  ...  Destination_UNITED STATES  Destination_VIET NAM\n",
              "0        61       19.8  ...                          0                     0\n",
              "1        93       63.0  ...                          0                     0\n",
              "2        22       22.0  ...                          1                     0\n",
              "3        14       54.5  ...                          0                     0\n",
              "4        90       10.0  ...                          0                     1\n",
              "\n",
              "[5 rows x 54 columns]"
            ]
          },
          "metadata": {
            "tags": []
          },
          "execution_count": 147
        }
      ]
    },
    {
      "cell_type": "code",
      "metadata": {
        "id": "t4n8sed9OKcp",
        "colab": {
          "base_uri": "https://localhost:8080/",
          "height": 326
        },
        "outputId": "18e07471-8958-4d11-eedf-15fa37947745"
      },
      "source": [
        "print(test_data.shape)\r\n",
        "#insurance_data[catagorical_features] = insurance_data[categorical_features].fillna(insurance_data[categorical_features].mode().iloc[0])\r\n",
        "test_data = pd.get_dummies(test_data, columns=categorical_feature)\r\n",
        "print(test_data.shape)\r\n",
        "test_data.head()"
      ],
      "execution_count": 148,
      "outputs": [
        {
          "output_type": "stream",
          "text": [
            "(15832, 9)\n",
            "(15832, 53)\n"
          ],
          "name": "stdout"
        },
        {
          "output_type": "execute_result",
          "data": {
            "text/html": [
              "<div>\n",
              "<style scoped>\n",
              "    .dataframe tbody tr th:only-of-type {\n",
              "        vertical-align: middle;\n",
              "    }\n",
              "\n",
              "    .dataframe tbody tr th {\n",
              "        vertical-align: top;\n",
              "    }\n",
              "\n",
              "    .dataframe thead th {\n",
              "        text-align: right;\n",
              "    }\n",
              "</style>\n",
              "<table border=\"1\" class=\"dataframe\">\n",
              "  <thead>\n",
              "    <tr style=\"text-align: right;\">\n",
              "      <th></th>\n",
              "      <th>Duration</th>\n",
              "      <th>Net Sales</th>\n",
              "      <th>Commision (in value)</th>\n",
              "      <th>Age</th>\n",
              "      <th>Agency_ADM</th>\n",
              "      <th>Agency_ART</th>\n",
              "      <th>Agency_C2B</th>\n",
              "      <th>Agency_CBH</th>\n",
              "      <th>Agency_CCR</th>\n",
              "      <th>Agency_CSR</th>\n",
              "      <th>Agency_CWT</th>\n",
              "      <th>Agency_EPX</th>\n",
              "      <th>Agency_JWT</th>\n",
              "      <th>Agency_JZI</th>\n",
              "      <th>Agency_KML</th>\n",
              "      <th>Agency_LWC</th>\n",
              "      <th>Agency_RAB</th>\n",
              "      <th>Agency_SSI</th>\n",
              "      <th>Agency_TST</th>\n",
              "      <th>Agency_TTW</th>\n",
              "      <th>Agency Type_Airlines</th>\n",
              "      <th>Agency Type_Travel Agency</th>\n",
              "      <th>Distribution Channel_Offline</th>\n",
              "      <th>Distribution Channel_Online</th>\n",
              "      <th>Product Name_1 way Comprehensive Plan</th>\n",
              "      <th>Product Name_2 way Comprehensive Plan</th>\n",
              "      <th>Product Name_Annual Silver Plan</th>\n",
              "      <th>Product Name_Basic Plan</th>\n",
              "      <th>Product Name_Bronze Plan</th>\n",
              "      <th>Product Name_Cancellation Plan</th>\n",
              "      <th>Product Name_Others</th>\n",
              "      <th>Product Name_Rental Vehicle Excess Insurance</th>\n",
              "      <th>Product Name_Silver Plan</th>\n",
              "      <th>Product Name_Ticket Protector</th>\n",
              "      <th>Product Name_Value Plan</th>\n",
              "      <th>Destination_AUSTRALIA</th>\n",
              "      <th>Destination_BRUNEI DARUSSALAM</th>\n",
              "      <th>Destination_CHINA</th>\n",
              "      <th>Destination_HONG KONG</th>\n",
              "      <th>Destination_INDIA</th>\n",
              "      <th>Destination_INDONESIA</th>\n",
              "      <th>Destination_JAPAN</th>\n",
              "      <th>Destination_KOREA, REPUBLIC OF</th>\n",
              "      <th>Destination_MALAYSIA</th>\n",
              "      <th>Destination_MYANMAR</th>\n",
              "      <th>Destination_Others</th>\n",
              "      <th>Destination_PHILIPPINES</th>\n",
              "      <th>Destination_SINGAPORE</th>\n",
              "      <th>Destination_TAIWAN, PROVINCE OF CHINA</th>\n",
              "      <th>Destination_THAILAND</th>\n",
              "      <th>Destination_UNITED KINGDOM</th>\n",
              "      <th>Destination_UNITED STATES</th>\n",
              "      <th>Destination_VIET NAM</th>\n",
              "    </tr>\n",
              "  </thead>\n",
              "  <tbody>\n",
              "    <tr>\n",
              "      <th>0</th>\n",
              "      <td>24</td>\n",
              "      <td>27.0</td>\n",
              "      <td>0.0</td>\n",
              "      <td>36</td>\n",
              "      <td>0</td>\n",
              "      <td>0</td>\n",
              "      <td>0</td>\n",
              "      <td>0</td>\n",
              "      <td>0</td>\n",
              "      <td>0</td>\n",
              "      <td>0</td>\n",
              "      <td>1</td>\n",
              "      <td>0</td>\n",
              "      <td>0</td>\n",
              "      <td>0</td>\n",
              "      <td>0</td>\n",
              "      <td>0</td>\n",
              "      <td>0</td>\n",
              "      <td>0</td>\n",
              "      <td>0</td>\n",
              "      <td>0</td>\n",
              "      <td>1</td>\n",
              "      <td>0</td>\n",
              "      <td>1</td>\n",
              "      <td>0</td>\n",
              "      <td>0</td>\n",
              "      <td>0</td>\n",
              "      <td>0</td>\n",
              "      <td>0</td>\n",
              "      <td>1</td>\n",
              "      <td>0</td>\n",
              "      <td>0</td>\n",
              "      <td>0</td>\n",
              "      <td>0</td>\n",
              "      <td>0</td>\n",
              "      <td>0</td>\n",
              "      <td>0</td>\n",
              "      <td>0</td>\n",
              "      <td>1</td>\n",
              "      <td>0</td>\n",
              "      <td>0</td>\n",
              "      <td>0</td>\n",
              "      <td>0</td>\n",
              "      <td>0</td>\n",
              "      <td>0</td>\n",
              "      <td>0</td>\n",
              "      <td>0</td>\n",
              "      <td>0</td>\n",
              "      <td>0</td>\n",
              "      <td>0</td>\n",
              "      <td>0</td>\n",
              "      <td>0</td>\n",
              "      <td>0</td>\n",
              "    </tr>\n",
              "    <tr>\n",
              "      <th>1</th>\n",
              "      <td>51</td>\n",
              "      <td>45.0</td>\n",
              "      <td>0.0</td>\n",
              "      <td>36</td>\n",
              "      <td>0</td>\n",
              "      <td>0</td>\n",
              "      <td>0</td>\n",
              "      <td>0</td>\n",
              "      <td>0</td>\n",
              "      <td>0</td>\n",
              "      <td>0</td>\n",
              "      <td>1</td>\n",
              "      <td>0</td>\n",
              "      <td>0</td>\n",
              "      <td>0</td>\n",
              "      <td>0</td>\n",
              "      <td>0</td>\n",
              "      <td>0</td>\n",
              "      <td>0</td>\n",
              "      <td>0</td>\n",
              "      <td>0</td>\n",
              "      <td>1</td>\n",
              "      <td>0</td>\n",
              "      <td>1</td>\n",
              "      <td>0</td>\n",
              "      <td>0</td>\n",
              "      <td>0</td>\n",
              "      <td>0</td>\n",
              "      <td>0</td>\n",
              "      <td>1</td>\n",
              "      <td>0</td>\n",
              "      <td>0</td>\n",
              "      <td>0</td>\n",
              "      <td>0</td>\n",
              "      <td>0</td>\n",
              "      <td>0</td>\n",
              "      <td>0</td>\n",
              "      <td>0</td>\n",
              "      <td>0</td>\n",
              "      <td>0</td>\n",
              "      <td>0</td>\n",
              "      <td>1</td>\n",
              "      <td>0</td>\n",
              "      <td>0</td>\n",
              "      <td>0</td>\n",
              "      <td>0</td>\n",
              "      <td>0</td>\n",
              "      <td>0</td>\n",
              "      <td>0</td>\n",
              "      <td>0</td>\n",
              "      <td>0</td>\n",
              "      <td>0</td>\n",
              "      <td>0</td>\n",
              "    </tr>\n",
              "    <tr>\n",
              "      <th>2</th>\n",
              "      <td>52</td>\n",
              "      <td>21.0</td>\n",
              "      <td>0.0</td>\n",
              "      <td>21</td>\n",
              "      <td>0</td>\n",
              "      <td>0</td>\n",
              "      <td>0</td>\n",
              "      <td>0</td>\n",
              "      <td>0</td>\n",
              "      <td>0</td>\n",
              "      <td>0</td>\n",
              "      <td>1</td>\n",
              "      <td>0</td>\n",
              "      <td>0</td>\n",
              "      <td>0</td>\n",
              "      <td>0</td>\n",
              "      <td>0</td>\n",
              "      <td>0</td>\n",
              "      <td>0</td>\n",
              "      <td>0</td>\n",
              "      <td>0</td>\n",
              "      <td>1</td>\n",
              "      <td>0</td>\n",
              "      <td>1</td>\n",
              "      <td>0</td>\n",
              "      <td>0</td>\n",
              "      <td>0</td>\n",
              "      <td>0</td>\n",
              "      <td>0</td>\n",
              "      <td>1</td>\n",
              "      <td>0</td>\n",
              "      <td>0</td>\n",
              "      <td>0</td>\n",
              "      <td>0</td>\n",
              "      <td>0</td>\n",
              "      <td>0</td>\n",
              "      <td>0</td>\n",
              "      <td>0</td>\n",
              "      <td>0</td>\n",
              "      <td>0</td>\n",
              "      <td>0</td>\n",
              "      <td>1</td>\n",
              "      <td>0</td>\n",
              "      <td>0</td>\n",
              "      <td>0</td>\n",
              "      <td>0</td>\n",
              "      <td>0</td>\n",
              "      <td>0</td>\n",
              "      <td>0</td>\n",
              "      <td>0</td>\n",
              "      <td>0</td>\n",
              "      <td>0</td>\n",
              "      <td>0</td>\n",
              "    </tr>\n",
              "    <tr>\n",
              "      <th>3</th>\n",
              "      <td>89</td>\n",
              "      <td>11.0</td>\n",
              "      <td>0.0</td>\n",
              "      <td>30</td>\n",
              "      <td>0</td>\n",
              "      <td>0</td>\n",
              "      <td>0</td>\n",
              "      <td>0</td>\n",
              "      <td>0</td>\n",
              "      <td>0</td>\n",
              "      <td>0</td>\n",
              "      <td>1</td>\n",
              "      <td>0</td>\n",
              "      <td>0</td>\n",
              "      <td>0</td>\n",
              "      <td>0</td>\n",
              "      <td>0</td>\n",
              "      <td>0</td>\n",
              "      <td>0</td>\n",
              "      <td>0</td>\n",
              "      <td>0</td>\n",
              "      <td>1</td>\n",
              "      <td>0</td>\n",
              "      <td>1</td>\n",
              "      <td>0</td>\n",
              "      <td>0</td>\n",
              "      <td>0</td>\n",
              "      <td>0</td>\n",
              "      <td>0</td>\n",
              "      <td>1</td>\n",
              "      <td>0</td>\n",
              "      <td>0</td>\n",
              "      <td>0</td>\n",
              "      <td>0</td>\n",
              "      <td>0</td>\n",
              "      <td>0</td>\n",
              "      <td>0</td>\n",
              "      <td>0</td>\n",
              "      <td>0</td>\n",
              "      <td>0</td>\n",
              "      <td>0</td>\n",
              "      <td>0</td>\n",
              "      <td>0</td>\n",
              "      <td>0</td>\n",
              "      <td>0</td>\n",
              "      <td>0</td>\n",
              "      <td>0</td>\n",
              "      <td>1</td>\n",
              "      <td>0</td>\n",
              "      <td>0</td>\n",
              "      <td>0</td>\n",
              "      <td>0</td>\n",
              "      <td>0</td>\n",
              "    </tr>\n",
              "    <tr>\n",
              "      <th>4</th>\n",
              "      <td>5</td>\n",
              "      <td>10.0</td>\n",
              "      <td>0.0</td>\n",
              "      <td>33</td>\n",
              "      <td>0</td>\n",
              "      <td>0</td>\n",
              "      <td>0</td>\n",
              "      <td>0</td>\n",
              "      <td>0</td>\n",
              "      <td>0</td>\n",
              "      <td>0</td>\n",
              "      <td>1</td>\n",
              "      <td>0</td>\n",
              "      <td>0</td>\n",
              "      <td>0</td>\n",
              "      <td>0</td>\n",
              "      <td>0</td>\n",
              "      <td>0</td>\n",
              "      <td>0</td>\n",
              "      <td>0</td>\n",
              "      <td>0</td>\n",
              "      <td>1</td>\n",
              "      <td>0</td>\n",
              "      <td>1</td>\n",
              "      <td>0</td>\n",
              "      <td>0</td>\n",
              "      <td>0</td>\n",
              "      <td>0</td>\n",
              "      <td>0</td>\n",
              "      <td>1</td>\n",
              "      <td>0</td>\n",
              "      <td>0</td>\n",
              "      <td>0</td>\n",
              "      <td>0</td>\n",
              "      <td>0</td>\n",
              "      <td>0</td>\n",
              "      <td>0</td>\n",
              "      <td>0</td>\n",
              "      <td>0</td>\n",
              "      <td>0</td>\n",
              "      <td>0</td>\n",
              "      <td>0</td>\n",
              "      <td>0</td>\n",
              "      <td>1</td>\n",
              "      <td>0</td>\n",
              "      <td>0</td>\n",
              "      <td>0</td>\n",
              "      <td>0</td>\n",
              "      <td>0</td>\n",
              "      <td>0</td>\n",
              "      <td>0</td>\n",
              "      <td>0</td>\n",
              "      <td>0</td>\n",
              "    </tr>\n",
              "  </tbody>\n",
              "</table>\n",
              "</div>"
            ],
            "text/plain": [
              "   Duration  Net Sales  ...  Destination_UNITED STATES  Destination_VIET NAM\n",
              "0        24       27.0  ...                          0                     0\n",
              "1        51       45.0  ...                          0                     0\n",
              "2        52       21.0  ...                          0                     0\n",
              "3        89       11.0  ...                          0                     0\n",
              "4         5       10.0  ...                          0                     0\n",
              "\n",
              "[5 rows x 53 columns]"
            ]
          },
          "metadata": {
            "tags": []
          },
          "execution_count": 148
        }
      ]
    },
    {
      "cell_type": "code",
      "metadata": {
        "id": "PB8EfI6nOMyS"
      },
      "source": [
        "feature_scale = [feature for feature in insurance_data.columns if  feature not in ['Claim'] ]"
      ],
      "execution_count": 149,
      "outputs": []
    },
    {
      "cell_type": "code",
      "metadata": {
        "id": "ErRt8YUYOM7w"
      },
      "source": [
        "#from sklearn.preprocessing import StandardScaler\r\n",
        "#scaler = StandardScaler()    \r\n",
        "#scaler.fit_transform(insurance_data[feature_scale])\r\n",
        "#data = pd.concat([insurance_data['Claim'].reset_index(drop = True),pd.DataFrame(scaler.fit_transform(insurance_data[feature_scale]),columns = feature_scale)],axis=1)\r\n",
        "#data.head()\r\n",
        "#print(data.shape)"
      ],
      "execution_count": 150,
      "outputs": []
    },
    {
      "cell_type": "code",
      "metadata": {
        "colab": {
          "base_uri": "https://localhost:8080/"
        },
        "id": "ujegbRExteJ6",
        "outputId": "5d0772c1-e61f-4821-cd06-61b037506dc5"
      },
      "source": [
        "feature_scale"
      ],
      "execution_count": 151,
      "outputs": [
        {
          "output_type": "execute_result",
          "data": {
            "text/plain": [
              "['Duration',\n",
              " 'Net Sales',\n",
              " 'Commision (in value)',\n",
              " 'Age',\n",
              " 'Agency_ADM',\n",
              " 'Agency_ART',\n",
              " 'Agency_C2B',\n",
              " 'Agency_CBH',\n",
              " 'Agency_CCR',\n",
              " 'Agency_CSR',\n",
              " 'Agency_CWT',\n",
              " 'Agency_EPX',\n",
              " 'Agency_JWT',\n",
              " 'Agency_JZI',\n",
              " 'Agency_KML',\n",
              " 'Agency_LWC',\n",
              " 'Agency_RAB',\n",
              " 'Agency_SSI',\n",
              " 'Agency_TST',\n",
              " 'Agency_TTW',\n",
              " 'Agency Type_Airlines',\n",
              " 'Agency Type_Travel Agency',\n",
              " 'Distribution Channel_Offline',\n",
              " 'Distribution Channel_Online',\n",
              " 'Product Name_1 way Comprehensive Plan',\n",
              " 'Product Name_2 way Comprehensive Plan',\n",
              " 'Product Name_Annual Silver Plan',\n",
              " 'Product Name_Basic Plan',\n",
              " 'Product Name_Bronze Plan',\n",
              " 'Product Name_Cancellation Plan',\n",
              " 'Product Name_Others',\n",
              " 'Product Name_Rental Vehicle Excess Insurance',\n",
              " 'Product Name_Silver Plan',\n",
              " 'Product Name_Ticket Protector',\n",
              " 'Product Name_Value Plan',\n",
              " 'Destination_AUSTRALIA',\n",
              " 'Destination_BRUNEI DARUSSALAM',\n",
              " 'Destination_CHINA',\n",
              " 'Destination_HONG KONG',\n",
              " 'Destination_INDIA',\n",
              " 'Destination_INDONESIA',\n",
              " 'Destination_JAPAN',\n",
              " 'Destination_KOREA, REPUBLIC OF',\n",
              " 'Destination_MALAYSIA',\n",
              " 'Destination_MYANMAR',\n",
              " 'Destination_Others',\n",
              " 'Destination_PHILIPPINES',\n",
              " 'Destination_SINGAPORE',\n",
              " 'Destination_TAIWAN, PROVINCE OF CHINA',\n",
              " 'Destination_THAILAND',\n",
              " 'Destination_UNITED KINGDOM',\n",
              " 'Destination_UNITED STATES',\n",
              " 'Destination_VIET NAM']"
            ]
          },
          "metadata": {
            "tags": []
          },
          "execution_count": 151
        }
      ]
    },
    {
      "cell_type": "code",
      "metadata": {
        "id": "q12d5yztONDP"
      },
      "source": [
        "#from sklearn.preprocessing import StandardScaler\r\n",
        "#scaler = StandardScaler()    \r\n",
        "##scaler.fit_transform(test_data[feature_scale])\r\n",
        "#test_data1 = pd.DataFrame(scaler.fit_transform(test_data[feature_scale]),columns = feature_scale)\r\n",
        "#test_data1.head()\r\n",
        "#print(test_data1.shape)"
      ],
      "execution_count": 152,
      "outputs": []
    },
    {
      "cell_type": "code",
      "metadata": {
        "colab": {
          "base_uri": "https://localhost:8080/"
        },
        "id": "j8HofZDutrPF",
        "outputId": "dde50824-8f7e-4be2-f88e-5eef8749e21d"
      },
      "source": [
        "test_data.shape"
      ],
      "execution_count": 153,
      "outputs": [
        {
          "output_type": "execute_result",
          "data": {
            "text/plain": [
              "(15832, 53)"
            ]
          },
          "metadata": {
            "tags": []
          },
          "execution_count": 153
        }
      ]
    },
    {
      "cell_type": "code",
      "metadata": {
        "id": "Oybyg7kcONLA"
      },
      "source": [
        "X = data.drop('Claim',axis=1)\r\n",
        "y = data.Claim"
      ],
      "execution_count": 154,
      "outputs": []
    },
    {
      "cell_type": "code",
      "metadata": {
        "id": "oLO1HDY0ONwf",
        "colab": {
          "base_uri": "https://localhost:8080/"
        },
        "outputId": "c3287ae1-2d76-4a5d-a841-16f53f21504d"
      },
      "source": [
        "from sklearn.model_selection import train_test_split\r\n",
        "X_train,X_test,y_train,y_test = train_test_split(X,y,test_size = 0.3,random_state = 42)\r\n",
        "print(X_train.shape,X_test.shape)\r\n",
        "print(y_train.shape,y_test.shape)"
      ],
      "execution_count": 155,
      "outputs": [
        {
          "output_type": "stream",
          "text": [
            "(33782, 53) (14478, 53)\n",
            "(33782,) (14478,)\n"
          ],
          "name": "stdout"
        }
      ]
    },
    {
      "cell_type": "code",
      "metadata": {
        "id": "5imSsO6ZON3t",
        "colab": {
          "base_uri": "https://localhost:8080/"
        },
        "outputId": "db220194-7c93-4a87-eea3-434969ee2707"
      },
      "source": [
        "from imblearn.over_sampling import SMOTE\r\n",
        "\r\n",
        "sm = SMOTE(random_state = 25, sampling_strategy = 1.0)   # again we are eqalizing both the classes\r\n",
        "\r\n",
        "# fit the sampling\r\n",
        "X_train, y_train = sm.fit_sample(X_train, y_train)"
      ],
      "execution_count": 156,
      "outputs": [
        {
          "output_type": "stream",
          "text": [
            "/usr/local/lib/python3.6/dist-packages/sklearn/utils/deprecation.py:87: FutureWarning: Function safe_indexing is deprecated; safe_indexing is deprecated in version 0.22 and will be removed in version 0.24.\n",
            "  warnings.warn(msg, category=FutureWarning)\n"
          ],
          "name": "stderr"
        }
      ]
    },
    {
      "cell_type": "code",
      "metadata": {
        "id": "nsoVeqESON_e",
        "colab": {
          "base_uri": "https://localhost:8080/"
        },
        "outputId": "aad5a4c1-9ff3-4f5d-837c-39b55001ea3c"
      },
      "source": [
        "from sklearn.ensemble import RandomForestClassifier   # import the Random forest model\r\n",
        "rfc = RandomForestClassifier()\r\n",
        "rfc.fit(X_train, y_train) "
      ],
      "execution_count": 157,
      "outputs": [
        {
          "output_type": "execute_result",
          "data": {
            "text/plain": [
              "RandomForestClassifier(bootstrap=True, ccp_alpha=0.0, class_weight=None,\n",
              "                       criterion='gini', max_depth=None, max_features='auto',\n",
              "                       max_leaf_nodes=None, max_samples=None,\n",
              "                       min_impurity_decrease=0.0, min_impurity_split=None,\n",
              "                       min_samples_leaf=1, min_samples_split=2,\n",
              "                       min_weight_fraction_leaf=0.0, n_estimators=100,\n",
              "                       n_jobs=None, oob_score=False, random_state=None,\n",
              "                       verbose=0, warm_start=False)"
            ]
          },
          "metadata": {
            "tags": []
          },
          "execution_count": 157
        }
      ]
    },
    {
      "cell_type": "code",
      "metadata": {
        "id": "n3jsemWeOOHj",
        "colab": {
          "base_uri": "https://localhost:8080/"
        },
        "outputId": "9a1719d6-1a5e-4ff0-a083-5a4723596774"
      },
      "source": [
        "from sklearn.metrics import classification_report,confusion_matrix\r\n",
        "print(classification_report(y_test,rfc.predict(X_test)))"
      ],
      "execution_count": 158,
      "outputs": [
        {
          "output_type": "stream",
          "text": [
            "              precision    recall  f1-score   support\n",
            "\n",
            "           0       0.99      0.97      0.98     14248\n",
            "           1       0.08      0.16      0.10       230\n",
            "\n",
            "    accuracy                           0.96     14478\n",
            "   macro avg       0.53      0.56      0.54     14478\n",
            "weighted avg       0.97      0.96      0.96     14478\n",
            "\n"
          ],
          "name": "stdout"
        }
      ]
    },
    {
      "cell_type": "code",
      "metadata": {
        "id": "b5kIHxmgOOO7",
        "colab": {
          "base_uri": "https://localhost:8080/"
        },
        "outputId": "7247f5c8-9343-42ba-87a0-56c53411b7a9"
      },
      "source": [
        "from sklearn.ensemble import GradientBoostingClassifier # Import GB classifier\r\n",
        "\r\n",
        "model = GradientBoostingClassifier()\r\n",
        "model.fit(X_train, y_train)\r\n",
        "print(classification_report(y_test,model.predict(X_test)))"
      ],
      "execution_count": 159,
      "outputs": [
        {
          "output_type": "stream",
          "text": [
            "              precision    recall  f1-score   support\n",
            "\n",
            "           0       0.99      0.83      0.90     14248\n",
            "           1       0.06      0.66      0.11       230\n",
            "\n",
            "    accuracy                           0.83     14478\n",
            "   macro avg       0.53      0.74      0.51     14478\n",
            "weighted avg       0.98      0.83      0.89     14478\n",
            "\n"
          ],
          "name": "stdout"
        }
      ]
    },
    {
      "cell_type": "code",
      "metadata": {
        "id": "xxcym35BOOXJ",
        "colab": {
          "base_uri": "https://localhost:8080/",
          "height": 204
        },
        "outputId": "8c641e41-7ef6-4c9a-a456-fc95464246e6"
      },
      "source": [
        "prediction = rfc.predict(test_data1)\r\n",
        "file = pd.DataFrame(prediction.reshape(len(prediction),1))\r\n",
        "file.rename(columns={0:'prediction'}, inplace=True)\r\n",
        "file.head(5)"
      ],
      "execution_count": 160,
      "outputs": [
        {
          "output_type": "execute_result",
          "data": {
            "text/html": [
              "<div>\n",
              "<style scoped>\n",
              "    .dataframe tbody tr th:only-of-type {\n",
              "        vertical-align: middle;\n",
              "    }\n",
              "\n",
              "    .dataframe tbody tr th {\n",
              "        vertical-align: top;\n",
              "    }\n",
              "\n",
              "    .dataframe thead th {\n",
              "        text-align: right;\n",
              "    }\n",
              "</style>\n",
              "<table border=\"1\" class=\"dataframe\">\n",
              "  <thead>\n",
              "    <tr style=\"text-align: right;\">\n",
              "      <th></th>\n",
              "      <th>prediction</th>\n",
              "    </tr>\n",
              "  </thead>\n",
              "  <tbody>\n",
              "    <tr>\n",
              "      <th>0</th>\n",
              "      <td>0</td>\n",
              "    </tr>\n",
              "    <tr>\n",
              "      <th>1</th>\n",
              "      <td>0</td>\n",
              "    </tr>\n",
              "    <tr>\n",
              "      <th>2</th>\n",
              "      <td>0</td>\n",
              "    </tr>\n",
              "    <tr>\n",
              "      <th>3</th>\n",
              "      <td>1</td>\n",
              "    </tr>\n",
              "    <tr>\n",
              "      <th>4</th>\n",
              "      <td>0</td>\n",
              "    </tr>\n",
              "  </tbody>\n",
              "</table>\n",
              "</div>"
            ],
            "text/plain": [
              "   prediction\n",
              "0           0\n",
              "1           0\n",
              "2           0\n",
              "3           1\n",
              "4           0"
            ]
          },
          "metadata": {
            "tags": []
          },
          "execution_count": 160
        }
      ]
    },
    {
      "cell_type": "code",
      "metadata": {
        "id": "Zh1cbr8tOOfA"
      },
      "source": [
        "file.to_csv('prediction1.csv',index=False)"
      ],
      "execution_count": 161,
      "outputs": []
    },
    {
      "cell_type": "code",
      "metadata": {
        "id": "pZra4TeWOOmv",
        "colab": {
          "base_uri": "https://localhost:8080/"
        },
        "outputId": "c716a7fe-af4e-43be-ef1e-11c55f0e2316"
      },
      "source": [
        "test_data1.shape"
      ],
      "execution_count": 162,
      "outputs": [
        {
          "output_type": "execute_result",
          "data": {
            "text/plain": [
              "(15832, 53)"
            ]
          },
          "metadata": {
            "tags": []
          },
          "execution_count": 162
        }
      ]
    },
    {
      "cell_type": "code",
      "metadata": {
        "id": "2LNvX5omOOvT",
        "colab": {
          "base_uri": "https://localhost:8080/"
        },
        "outputId": "d85c901e-4467-4c67-f6d2-defacb31a355"
      },
      "source": [
        "file.shape"
      ],
      "execution_count": 163,
      "outputs": [
        {
          "output_type": "execute_result",
          "data": {
            "text/plain": [
              "(15832, 1)"
            ]
          },
          "metadata": {
            "tags": []
          },
          "execution_count": 163
        }
      ]
    },
    {
      "cell_type": "code",
      "metadata": {
        "colab": {
          "base_uri": "https://localhost:8080/",
          "height": 292
        },
        "id": "Hv4njxc4MUh4",
        "outputId": "f28ee104-93db-4d6e-d321-cb23679c9a1f"
      },
      "source": [
        "test_data1.tail()"
      ],
      "execution_count": 164,
      "outputs": [
        {
          "output_type": "execute_result",
          "data": {
            "text/html": [
              "<div>\n",
              "<style scoped>\n",
              "    .dataframe tbody tr th:only-of-type {\n",
              "        vertical-align: middle;\n",
              "    }\n",
              "\n",
              "    .dataframe tbody tr th {\n",
              "        vertical-align: top;\n",
              "    }\n",
              "\n",
              "    .dataframe thead th {\n",
              "        text-align: right;\n",
              "    }\n",
              "</style>\n",
              "<table border=\"1\" class=\"dataframe\">\n",
              "  <thead>\n",
              "    <tr style=\"text-align: right;\">\n",
              "      <th></th>\n",
              "      <th>Duration</th>\n",
              "      <th>Net Sales</th>\n",
              "      <th>Commision (in value)</th>\n",
              "      <th>Age</th>\n",
              "      <th>Agency_ADM</th>\n",
              "      <th>Agency_ART</th>\n",
              "      <th>Agency_C2B</th>\n",
              "      <th>Agency_CBH</th>\n",
              "      <th>Agency_CCR</th>\n",
              "      <th>Agency_CSR</th>\n",
              "      <th>Agency_CWT</th>\n",
              "      <th>Agency_EPX</th>\n",
              "      <th>Agency_JWT</th>\n",
              "      <th>Agency_JZI</th>\n",
              "      <th>Agency_KML</th>\n",
              "      <th>Agency_LWC</th>\n",
              "      <th>Agency_RAB</th>\n",
              "      <th>Agency_SSI</th>\n",
              "      <th>Agency_TST</th>\n",
              "      <th>Agency_TTW</th>\n",
              "      <th>Agency Type_Airlines</th>\n",
              "      <th>Agency Type_Travel Agency</th>\n",
              "      <th>Distribution Channel_Offline</th>\n",
              "      <th>Distribution Channel_Online</th>\n",
              "      <th>Product Name_1 way Comprehensive Plan</th>\n",
              "      <th>Product Name_2 way Comprehensive Plan</th>\n",
              "      <th>Product Name_Annual Silver Plan</th>\n",
              "      <th>Product Name_Basic Plan</th>\n",
              "      <th>Product Name_Bronze Plan</th>\n",
              "      <th>Product Name_Cancellation Plan</th>\n",
              "      <th>Product Name_Others</th>\n",
              "      <th>Product Name_Rental Vehicle Excess Insurance</th>\n",
              "      <th>Product Name_Silver Plan</th>\n",
              "      <th>Product Name_Ticket Protector</th>\n",
              "      <th>Product Name_Value Plan</th>\n",
              "      <th>Destination_AUSTRALIA</th>\n",
              "      <th>Destination_BRUNEI DARUSSALAM</th>\n",
              "      <th>Destination_CHINA</th>\n",
              "      <th>Destination_HONG KONG</th>\n",
              "      <th>Destination_INDIA</th>\n",
              "      <th>Destination_INDONESIA</th>\n",
              "      <th>Destination_JAPAN</th>\n",
              "      <th>Destination_KOREA, REPUBLIC OF</th>\n",
              "      <th>Destination_MALAYSIA</th>\n",
              "      <th>Destination_MYANMAR</th>\n",
              "      <th>Destination_Others</th>\n",
              "      <th>Destination_PHILIPPINES</th>\n",
              "      <th>Destination_SINGAPORE</th>\n",
              "      <th>Destination_TAIWAN, PROVINCE OF CHINA</th>\n",
              "      <th>Destination_THAILAND</th>\n",
              "      <th>Destination_UNITED KINGDOM</th>\n",
              "      <th>Destination_UNITED STATES</th>\n",
              "      <th>Destination_VIET NAM</th>\n",
              "    </tr>\n",
              "  </thead>\n",
              "  <tbody>\n",
              "    <tr>\n",
              "      <th>15827</th>\n",
              "      <td>-0.491527</td>\n",
              "      <td>-0.318499</td>\n",
              "      <td>-0.488322</td>\n",
              "      <td>0.209231</td>\n",
              "      <td>-0.040558</td>\n",
              "      <td>-0.074762</td>\n",
              "      <td>-0.390415</td>\n",
              "      <td>-0.045703</td>\n",
              "      <td>-0.050955</td>\n",
              "      <td>-0.036444</td>\n",
              "      <td>-0.392989</td>\n",
              "      <td>0.890835</td>\n",
              "      <td>-0.105722</td>\n",
              "      <td>-0.330965</td>\n",
              "      <td>-0.079727</td>\n",
              "      <td>-0.102938</td>\n",
              "      <td>-0.099757</td>\n",
              "      <td>-0.128201</td>\n",
              "      <td>-0.095133</td>\n",
              "      <td>-0.040558</td>\n",
              "      <td>-0.613755</td>\n",
              "      <td>0.613755</td>\n",
              "      <td>-0.136598</td>\n",
              "      <td>0.136598</td>\n",
              "      <td>-0.239373</td>\n",
              "      <td>1.938722</td>\n",
              "      <td>-0.151232</td>\n",
              "      <td>-0.303584</td>\n",
              "      <td>-0.265021</td>\n",
              "      <td>-0.644077</td>\n",
              "      <td>-0.210049</td>\n",
              "      <td>-0.392989</td>\n",
              "      <td>-0.194308</td>\n",
              "      <td>-0.128201</td>\n",
              "      <td>-0.208074</td>\n",
              "      <td>-0.249387</td>\n",
              "      <td>-0.104802</td>\n",
              "      <td>-0.288438</td>\n",
              "      <td>-0.199671</td>\n",
              "      <td>-0.189889</td>\n",
              "      <td>-0.244057</td>\n",
              "      <td>-0.179465</td>\n",
              "      <td>-0.153187</td>\n",
              "      <td>3.069633</td>\n",
              "      <td>-0.114818</td>\n",
              "      <td>-0.364750</td>\n",
              "      <td>-0.197610</td>\n",
              "      <td>-0.517276</td>\n",
              "      <td>-0.134179</td>\n",
              "      <td>-0.320766</td>\n",
              "      <td>-0.146128</td>\n",
              "      <td>-0.200354</td>\n",
              "      <td>-0.159338</td>\n",
              "    </tr>\n",
              "    <tr>\n",
              "      <th>15828</th>\n",
              "      <td>3.972095</td>\n",
              "      <td>4.328626</td>\n",
              "      <td>2.664274</td>\n",
              "      <td>-1.439624</td>\n",
              "      <td>-0.040558</td>\n",
              "      <td>-0.074762</td>\n",
              "      <td>2.561376</td>\n",
              "      <td>-0.045703</td>\n",
              "      <td>-0.050955</td>\n",
              "      <td>-0.036444</td>\n",
              "      <td>-0.392989</td>\n",
              "      <td>-1.122542</td>\n",
              "      <td>-0.105722</td>\n",
              "      <td>-0.330965</td>\n",
              "      <td>-0.079727</td>\n",
              "      <td>-0.102938</td>\n",
              "      <td>-0.099757</td>\n",
              "      <td>-0.128201</td>\n",
              "      <td>-0.095133</td>\n",
              "      <td>-0.040558</td>\n",
              "      <td>1.629314</td>\n",
              "      <td>-1.629314</td>\n",
              "      <td>-0.136598</td>\n",
              "      <td>0.136598</td>\n",
              "      <td>-0.239373</td>\n",
              "      <td>-0.515804</td>\n",
              "      <td>6.612349</td>\n",
              "      <td>-0.303584</td>\n",
              "      <td>-0.265021</td>\n",
              "      <td>-0.644077</td>\n",
              "      <td>-0.210049</td>\n",
              "      <td>-0.392989</td>\n",
              "      <td>-0.194308</td>\n",
              "      <td>-0.128201</td>\n",
              "      <td>-0.208074</td>\n",
              "      <td>-0.249387</td>\n",
              "      <td>-0.104802</td>\n",
              "      <td>-0.288438</td>\n",
              "      <td>-0.199671</td>\n",
              "      <td>-0.189889</td>\n",
              "      <td>-0.244057</td>\n",
              "      <td>-0.179465</td>\n",
              "      <td>-0.153187</td>\n",
              "      <td>-0.325772</td>\n",
              "      <td>-0.114818</td>\n",
              "      <td>-0.364750</td>\n",
              "      <td>-0.197610</td>\n",
              "      <td>1.933205</td>\n",
              "      <td>-0.134179</td>\n",
              "      <td>-0.320766</td>\n",
              "      <td>-0.146128</td>\n",
              "      <td>-0.200354</td>\n",
              "      <td>-0.159338</td>\n",
              "    </tr>\n",
              "    <tr>\n",
              "      <th>15829</th>\n",
              "      <td>0.059537</td>\n",
              "      <td>-0.196125</td>\n",
              "      <td>0.130127</td>\n",
              "      <td>5.585934</td>\n",
              "      <td>-0.040558</td>\n",
              "      <td>-0.074762</td>\n",
              "      <td>-0.390415</td>\n",
              "      <td>-0.045703</td>\n",
              "      <td>-0.050955</td>\n",
              "      <td>-0.036444</td>\n",
              "      <td>-0.392989</td>\n",
              "      <td>-1.122542</td>\n",
              "      <td>9.458783</td>\n",
              "      <td>-0.330965</td>\n",
              "      <td>-0.079727</td>\n",
              "      <td>-0.102938</td>\n",
              "      <td>-0.099757</td>\n",
              "      <td>-0.128201</td>\n",
              "      <td>-0.095133</td>\n",
              "      <td>-0.040558</td>\n",
              "      <td>1.629314</td>\n",
              "      <td>-1.629314</td>\n",
              "      <td>-0.136598</td>\n",
              "      <td>0.136598</td>\n",
              "      <td>-0.239373</td>\n",
              "      <td>-0.515804</td>\n",
              "      <td>-0.151232</td>\n",
              "      <td>-0.303584</td>\n",
              "      <td>-0.265021</td>\n",
              "      <td>-0.644077</td>\n",
              "      <td>-0.210049</td>\n",
              "      <td>-0.392989</td>\n",
              "      <td>-0.194308</td>\n",
              "      <td>-0.128201</td>\n",
              "      <td>4.805977</td>\n",
              "      <td>-0.249387</td>\n",
              "      <td>-0.104802</td>\n",
              "      <td>-0.288438</td>\n",
              "      <td>-0.199671</td>\n",
              "      <td>5.266233</td>\n",
              "      <td>-0.244057</td>\n",
              "      <td>-0.179465</td>\n",
              "      <td>-0.153187</td>\n",
              "      <td>-0.325772</td>\n",
              "      <td>-0.114818</td>\n",
              "      <td>-0.364750</td>\n",
              "      <td>-0.197610</td>\n",
              "      <td>-0.517276</td>\n",
              "      <td>-0.134179</td>\n",
              "      <td>-0.320766</td>\n",
              "      <td>-0.146128</td>\n",
              "      <td>-0.200354</td>\n",
              "      <td>-0.159338</td>\n",
              "    </tr>\n",
              "    <tr>\n",
              "      <th>15830</th>\n",
              "      <td>-0.204974</td>\n",
              "      <td>-0.828387</td>\n",
              "      <td>0.104192</td>\n",
              "      <td>-0.651041</td>\n",
              "      <td>-0.040558</td>\n",
              "      <td>-0.074762</td>\n",
              "      <td>-0.390415</td>\n",
              "      <td>-0.045703</td>\n",
              "      <td>-0.050955</td>\n",
              "      <td>-0.036444</td>\n",
              "      <td>2.544597</td>\n",
              "      <td>-1.122542</td>\n",
              "      <td>-0.105722</td>\n",
              "      <td>-0.330965</td>\n",
              "      <td>-0.079727</td>\n",
              "      <td>-0.102938</td>\n",
              "      <td>-0.099757</td>\n",
              "      <td>-0.128201</td>\n",
              "      <td>-0.095133</td>\n",
              "      <td>-0.040558</td>\n",
              "      <td>-0.613755</td>\n",
              "      <td>0.613755</td>\n",
              "      <td>-0.136598</td>\n",
              "      <td>0.136598</td>\n",
              "      <td>-0.239373</td>\n",
              "      <td>-0.515804</td>\n",
              "      <td>-0.151232</td>\n",
              "      <td>-0.303584</td>\n",
              "      <td>-0.265021</td>\n",
              "      <td>-0.644077</td>\n",
              "      <td>-0.210049</td>\n",
              "      <td>2.544597</td>\n",
              "      <td>-0.194308</td>\n",
              "      <td>-0.128201</td>\n",
              "      <td>-0.208074</td>\n",
              "      <td>-0.249387</td>\n",
              "      <td>-0.104802</td>\n",
              "      <td>-0.288438</td>\n",
              "      <td>-0.199671</td>\n",
              "      <td>-0.189889</td>\n",
              "      <td>-0.244057</td>\n",
              "      <td>-0.179465</td>\n",
              "      <td>-0.153187</td>\n",
              "      <td>-0.325772</td>\n",
              "      <td>-0.114818</td>\n",
              "      <td>2.741607</td>\n",
              "      <td>-0.197610</td>\n",
              "      <td>-0.517276</td>\n",
              "      <td>-0.134179</td>\n",
              "      <td>-0.320766</td>\n",
              "      <td>-0.146128</td>\n",
              "      <td>-0.200354</td>\n",
              "      <td>-0.159338</td>\n",
              "    </tr>\n",
              "    <tr>\n",
              "      <th>15831</th>\n",
              "      <td>0.335070</td>\n",
              "      <td>-0.828387</td>\n",
              "      <td>-0.488322</td>\n",
              "      <td>-0.292594</td>\n",
              "      <td>-0.040558</td>\n",
              "      <td>-0.074762</td>\n",
              "      <td>-0.390415</td>\n",
              "      <td>-0.045703</td>\n",
              "      <td>-0.050955</td>\n",
              "      <td>-0.036444</td>\n",
              "      <td>-0.392989</td>\n",
              "      <td>0.890835</td>\n",
              "      <td>-0.105722</td>\n",
              "      <td>-0.330965</td>\n",
              "      <td>-0.079727</td>\n",
              "      <td>-0.102938</td>\n",
              "      <td>-0.099757</td>\n",
              "      <td>-0.128201</td>\n",
              "      <td>-0.095133</td>\n",
              "      <td>-0.040558</td>\n",
              "      <td>-0.613755</td>\n",
              "      <td>0.613755</td>\n",
              "      <td>-0.136598</td>\n",
              "      <td>0.136598</td>\n",
              "      <td>-0.239373</td>\n",
              "      <td>1.938722</td>\n",
              "      <td>-0.151232</td>\n",
              "      <td>-0.303584</td>\n",
              "      <td>-0.265021</td>\n",
              "      <td>-0.644077</td>\n",
              "      <td>-0.210049</td>\n",
              "      <td>-0.392989</td>\n",
              "      <td>-0.194308</td>\n",
              "      <td>-0.128201</td>\n",
              "      <td>-0.208074</td>\n",
              "      <td>-0.249387</td>\n",
              "      <td>-0.104802</td>\n",
              "      <td>-0.288438</td>\n",
              "      <td>-0.199671</td>\n",
              "      <td>-0.189889</td>\n",
              "      <td>-0.244057</td>\n",
              "      <td>-0.179465</td>\n",
              "      <td>-0.153187</td>\n",
              "      <td>-0.325772</td>\n",
              "      <td>-0.114818</td>\n",
              "      <td>-0.364750</td>\n",
              "      <td>5.060475</td>\n",
              "      <td>-0.517276</td>\n",
              "      <td>-0.134179</td>\n",
              "      <td>-0.320766</td>\n",
              "      <td>-0.146128</td>\n",
              "      <td>-0.200354</td>\n",
              "      <td>-0.159338</td>\n",
              "    </tr>\n",
              "  </tbody>\n",
              "</table>\n",
              "</div>"
            ],
            "text/plain": [
              "       Duration  Net Sales  ...  Destination_UNITED STATES  Destination_VIET NAM\n",
              "15827 -0.491527  -0.318499  ...                  -0.200354             -0.159338\n",
              "15828  3.972095   4.328626  ...                  -0.200354             -0.159338\n",
              "15829  0.059537  -0.196125  ...                  -0.200354             -0.159338\n",
              "15830 -0.204974  -0.828387  ...                  -0.200354             -0.159338\n",
              "15831  0.335070  -0.828387  ...                  -0.200354             -0.159338\n",
              "\n",
              "[5 rows x 53 columns]"
            ]
          },
          "metadata": {
            "tags": []
          },
          "execution_count": 164
        }
      ]
    },
    {
      "cell_type": "code",
      "metadata": {
        "colab": {
          "base_uri": "https://localhost:8080/",
          "height": 204
        },
        "id": "PTOrxH6cMKAw",
        "outputId": "1bc4c86f-30ab-4c59-b426-0deeef1c33cb"
      },
      "source": [
        "file.tail()"
      ],
      "execution_count": 165,
      "outputs": [
        {
          "output_type": "execute_result",
          "data": {
            "text/html": [
              "<div>\n",
              "<style scoped>\n",
              "    .dataframe tbody tr th:only-of-type {\n",
              "        vertical-align: middle;\n",
              "    }\n",
              "\n",
              "    .dataframe tbody tr th {\n",
              "        vertical-align: top;\n",
              "    }\n",
              "\n",
              "    .dataframe thead th {\n",
              "        text-align: right;\n",
              "    }\n",
              "</style>\n",
              "<table border=\"1\" class=\"dataframe\">\n",
              "  <thead>\n",
              "    <tr style=\"text-align: right;\">\n",
              "      <th></th>\n",
              "      <th>prediction</th>\n",
              "    </tr>\n",
              "  </thead>\n",
              "  <tbody>\n",
              "    <tr>\n",
              "      <th>15827</th>\n",
              "      <td>1</td>\n",
              "    </tr>\n",
              "    <tr>\n",
              "      <th>15828</th>\n",
              "      <td>0</td>\n",
              "    </tr>\n",
              "    <tr>\n",
              "      <th>15829</th>\n",
              "      <td>0</td>\n",
              "    </tr>\n",
              "    <tr>\n",
              "      <th>15830</th>\n",
              "      <td>0</td>\n",
              "    </tr>\n",
              "    <tr>\n",
              "      <th>15831</th>\n",
              "      <td>1</td>\n",
              "    </tr>\n",
              "  </tbody>\n",
              "</table>\n",
              "</div>"
            ],
            "text/plain": [
              "       prediction\n",
              "15827           1\n",
              "15828           0\n",
              "15829           0\n",
              "15830           0\n",
              "15831           1"
            ]
          },
          "metadata": {
            "tags": []
          },
          "execution_count": 165
        }
      ]
    },
    {
      "cell_type": "code",
      "metadata": {
        "id": "yFvAYjv9NumK"
      },
      "source": [
        "df = pd.read_csv(\"/content/prediction.csv\")"
      ],
      "execution_count": 166,
      "outputs": []
    },
    {
      "cell_type": "code",
      "metadata": {
        "colab": {
          "base_uri": "https://localhost:8080/",
          "height": 204
        },
        "id": "jWBO52lAmuFf",
        "outputId": "45f922fb-cc68-49ac-ad3e-e8e860375479"
      },
      "source": [
        "df.head()"
      ],
      "execution_count": 167,
      "outputs": [
        {
          "output_type": "execute_result",
          "data": {
            "text/html": [
              "<div>\n",
              "<style scoped>\n",
              "    .dataframe tbody tr th:only-of-type {\n",
              "        vertical-align: middle;\n",
              "    }\n",
              "\n",
              "    .dataframe tbody tr th {\n",
              "        vertical-align: top;\n",
              "    }\n",
              "\n",
              "    .dataframe thead th {\n",
              "        text-align: right;\n",
              "    }\n",
              "</style>\n",
              "<table border=\"1\" class=\"dataframe\">\n",
              "  <thead>\n",
              "    <tr style=\"text-align: right;\">\n",
              "      <th></th>\n",
              "      <th>prediction</th>\n",
              "    </tr>\n",
              "  </thead>\n",
              "  <tbody>\n",
              "    <tr>\n",
              "      <th>0</th>\n",
              "      <td>1</td>\n",
              "    </tr>\n",
              "    <tr>\n",
              "      <th>1</th>\n",
              "      <td>0</td>\n",
              "    </tr>\n",
              "    <tr>\n",
              "      <th>2</th>\n",
              "      <td>0</td>\n",
              "    </tr>\n",
              "    <tr>\n",
              "      <th>3</th>\n",
              "      <td>1</td>\n",
              "    </tr>\n",
              "    <tr>\n",
              "      <th>4</th>\n",
              "      <td>0</td>\n",
              "    </tr>\n",
              "  </tbody>\n",
              "</table>\n",
              "</div>"
            ],
            "text/plain": [
              "   prediction\n",
              "0           1\n",
              "1           0\n",
              "2           0\n",
              "3           1\n",
              "4           0"
            ]
          },
          "metadata": {
            "tags": []
          },
          "execution_count": 167
        }
      ]
    },
    {
      "cell_type": "code",
      "metadata": {
        "colab": {
          "base_uri": "https://localhost:8080/",
          "height": 204
        },
        "id": "JcGpMZ4TnX-f",
        "outputId": "989c792a-dc03-4053-e98d-2572f715354d"
      },
      "source": [
        "df.tail()"
      ],
      "execution_count": 168,
      "outputs": [
        {
          "output_type": "execute_result",
          "data": {
            "text/html": [
              "<div>\n",
              "<style scoped>\n",
              "    .dataframe tbody tr th:only-of-type {\n",
              "        vertical-align: middle;\n",
              "    }\n",
              "\n",
              "    .dataframe tbody tr th {\n",
              "        vertical-align: top;\n",
              "    }\n",
              "\n",
              "    .dataframe thead th {\n",
              "        text-align: right;\n",
              "    }\n",
              "</style>\n",
              "<table border=\"1\" class=\"dataframe\">\n",
              "  <thead>\n",
              "    <tr style=\"text-align: right;\">\n",
              "      <th></th>\n",
              "      <th>prediction</th>\n",
              "    </tr>\n",
              "  </thead>\n",
              "  <tbody>\n",
              "    <tr>\n",
              "      <th>15827</th>\n",
              "      <td>1</td>\n",
              "    </tr>\n",
              "    <tr>\n",
              "      <th>15828</th>\n",
              "      <td>0</td>\n",
              "    </tr>\n",
              "    <tr>\n",
              "      <th>15829</th>\n",
              "      <td>0</td>\n",
              "    </tr>\n",
              "    <tr>\n",
              "      <th>15830</th>\n",
              "      <td>0</td>\n",
              "    </tr>\n",
              "    <tr>\n",
              "      <th>15831</th>\n",
              "      <td>1</td>\n",
              "    </tr>\n",
              "  </tbody>\n",
              "</table>\n",
              "</div>"
            ],
            "text/plain": [
              "       prediction\n",
              "15827           1\n",
              "15828           0\n",
              "15829           0\n",
              "15830           0\n",
              "15831           1"
            ]
          },
          "metadata": {
            "tags": []
          },
          "execution_count": 168
        }
      ]
    },
    {
      "cell_type": "code",
      "metadata": {
        "colab": {
          "base_uri": "https://localhost:8080/",
          "height": 204
        },
        "id": "TAgkAQf8nYMp",
        "outputId": "10c035ee-07de-4629-cb55-ddd829f83ba5"
      },
      "source": [
        "df.reset_index(drop=True)\r\n",
        "df.head()"
      ],
      "execution_count": 169,
      "outputs": [
        {
          "output_type": "execute_result",
          "data": {
            "text/html": [
              "<div>\n",
              "<style scoped>\n",
              "    .dataframe tbody tr th:only-of-type {\n",
              "        vertical-align: middle;\n",
              "    }\n",
              "\n",
              "    .dataframe tbody tr th {\n",
              "        vertical-align: top;\n",
              "    }\n",
              "\n",
              "    .dataframe thead th {\n",
              "        text-align: right;\n",
              "    }\n",
              "</style>\n",
              "<table border=\"1\" class=\"dataframe\">\n",
              "  <thead>\n",
              "    <tr style=\"text-align: right;\">\n",
              "      <th></th>\n",
              "      <th>prediction</th>\n",
              "    </tr>\n",
              "  </thead>\n",
              "  <tbody>\n",
              "    <tr>\n",
              "      <th>0</th>\n",
              "      <td>1</td>\n",
              "    </tr>\n",
              "    <tr>\n",
              "      <th>1</th>\n",
              "      <td>0</td>\n",
              "    </tr>\n",
              "    <tr>\n",
              "      <th>2</th>\n",
              "      <td>0</td>\n",
              "    </tr>\n",
              "    <tr>\n",
              "      <th>3</th>\n",
              "      <td>1</td>\n",
              "    </tr>\n",
              "    <tr>\n",
              "      <th>4</th>\n",
              "      <td>0</td>\n",
              "    </tr>\n",
              "  </tbody>\n",
              "</table>\n",
              "</div>"
            ],
            "text/plain": [
              "   prediction\n",
              "0           1\n",
              "1           0\n",
              "2           0\n",
              "3           1\n",
              "4           0"
            ]
          },
          "metadata": {
            "tags": []
          },
          "execution_count": 169
        }
      ]
    },
    {
      "cell_type": "code",
      "metadata": {
        "id": "a3lQ_-lWnYWm"
      },
      "source": [
        ""
      ],
      "execution_count": 169,
      "outputs": []
    },
    {
      "cell_type": "code",
      "metadata": {
        "id": "ebr_Sk0RnZkg"
      },
      "source": [
        ""
      ],
      "execution_count": 169,
      "outputs": []
    },
    {
      "cell_type": "code",
      "metadata": {
        "id": "LW8S0YDwnZsN"
      },
      "source": [
        ""
      ],
      "execution_count": 169,
      "outputs": []
    },
    {
      "cell_type": "code",
      "metadata": {
        "id": "Uw0iKnCFnZ0a"
      },
      "source": [
        ""
      ],
      "execution_count": 169,
      "outputs": []
    }
  ]
}